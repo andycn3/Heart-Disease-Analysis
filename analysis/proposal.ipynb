{
 "cells": [
  {
   "cell_type": "markdown",
   "id": "d7bcaf21-03a6-42a1-a64f-e9715b0ad048",
   "metadata": {},
   "source": [
    "Proposal\n",
    "\n",
    "the number of subsrcibers by the number of views, categories\n",
    "\n"
   ]
  },
  {
   "cell_type": "code",
   "execution_count": null,
   "id": "1887099c-ba0a-4e47-a9a8-18fee1490793",
   "metadata": {},
   "outputs": [],
   "source": []
  }
 ],
 "metadata": {
  "kernelspec": {
   "display_name": "Python 3 (ipykernel)",
   "language": "python",
   "name": "python3"
  },
  "language_info": {
   "codemirror_mode": {
    "name": "ipython",
    "version": 3
   },
   "file_extension": ".py",
   "mimetype": "text/x-python",
   "name": "python",
   "nbconvert_exporter": "python",
   "pygments_lexer": "ipython3",
   "version": "3.10.8"
  }
 },
 "nbformat": 4,
 "nbformat_minor": 5
}
