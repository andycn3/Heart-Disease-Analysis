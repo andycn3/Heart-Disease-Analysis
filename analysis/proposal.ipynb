{
 "cells": [
  {
   "cell_type": "markdown",
   "id": "d7bcaf21-03a6-42a1-a64f-e9715b0ad048",
   "metadata": {},
   "source": [
    "# Group"
   ]
  },
  {
   "cell_type": "markdown",
   "id": "a60dd192-fa5b-4ebc-9318-6f5002aa8bd2",
   "metadata": {
    "tags": []
   },
   "source": [
    "### Intoduction"
   ]
  },
  {
   "cell_type": "markdown",
   "id": "5ad84c50-fdde-4b55-a88c-756de57ddd3d",
   "metadata": {},
   "source": [
    "### Methods\n",
    "\n"
   ]
  },
  {
   "cell_type": "code",
   "execution_count": null,
   "id": "efaba619-b19f-4a4d-b48e-91534eab3fa8",
   "metadata": {},
   "outputs": [],
   "source": []
  },
  {
   "cell_type": "markdown",
   "id": "596b9f02-4862-439a-a05d-9613d5791364",
   "metadata": {},
   "source": [
    "## Expected outcomes and significance\n"
   ]
  }
 ],
 "metadata": {
  "kernelspec": {
   "display_name": "Python 3 (ipykernel)",
   "language": "python",
   "name": "python3"
  },
  "language_info": {
   "codemirror_mode": {
    "name": "ipython",
    "version": 3
   },
   "file_extension": ".py",
   "mimetype": "text/x-python",
   "name": "python",
   "nbconvert_exporter": "python",
   "pygments_lexer": "ipython3",
   "version": "3.10.8"
  }
 },
 "nbformat": 4,
 "nbformat_minor": 5
}
