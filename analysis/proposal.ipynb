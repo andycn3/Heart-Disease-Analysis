{
 "cells": [
  {
   "cell_type": "code",
   "execution_count": null,
   "id": "ad007779-038e-4b6f-a6d6-9ee27824486e",
   "metadata": {},
   "outputs": [],
   "source": [
    "#proposal"
   ]
  }
 ],
 "metadata": {
  "kernelspec": {
   "display_name": "Python 3 (ipykernel)",
   "language": "python",
   "name": "python3"
  },
  "language_info": {
   "codemirror_mode": {
    "name": "ipython",
    "version": 3
   },
   "file_extension": ".py",
   "mimetype": "text/x-python",
   "name": "python",
   "nbconvert_exporter": "python",
   "pygments_lexer": "ipython3",
   "version": "3.10.8"
  }
 },
 "nbformat": 4,
 "nbformat_minor": 5
}
