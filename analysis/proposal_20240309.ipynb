{
 "cells": [
  {
   "cell_type": "markdown",
   "id": "c712c140-7ee6-44e4-853d-1cbdb6215809",
   "metadata": {},
   "source": [
    "# Group Project: Discussion of Risk Factors of Heart Disease "
   ]
  },
  {
   "cell_type": "markdown",
   "id": "62ecef1a-e28c-47b1-b704-e7225f5ad326",
   "metadata": {
    "tags": []
   },
   "source": [
    "Heart disease describes various conditions that affect the heart, but this data set is specific to coronary artery disease (CAD). CAD is characterized by impaired blood flow to the heart due to plaque build-up, consisting mostly of cholesterol, within the inner walls of the arteries. The blockage from this plaque inhibits the heart from receiving adequate levels of oxygenated blood. This can cause symptoms such as chest pains and shortness of breath. In severe cases, heart attacks can transpire if the complete blockage of blood flow to the heart occurs (Coronary artery disease, 2022). Since the plaque causing the blockage is mostly cholesterol, our question is “Can we infer the presence of coronary artery disease based on the levels of cholesterol levels and resting systolic blood pressure, and whether there is a similar relationship present in both males or females?”.\n",
    "We are using a heart disease dataset found in UC Irvine’s online Machine Learning Repository. The data was gathered from “test results of 303 patients undergoing angiography at the Cleveland Clinic in Cleveland, Ohio” (Detrano et. al., 1989) and contains 14 variables, some of which are categorical while others are numerical. Thus, the final dataset is 14 columns by 303 rows."
   ]
  },
  {
   "cell_type": "markdown",
   "id": "0eadd33e-56c9-4727-994b-334f07ee42f0",
   "metadata": {},
   "source": [
    "## Preliminary exploratory data analysis"
   ]
  },
  {
   "cell_type": "markdown",
   "id": "db90be50-35a8-4472-8838-8e180961834b",
   "metadata": {},
   "source": [
    "#### Import libraries to read and clean the dataset into a tidy format."
   ]
  },
  {
   "cell_type": "code",
   "execution_count": 1,
   "id": "8f5fe4c4-7779-4b23-8f99-69300ded346c",
   "metadata": {
    "tags": []
   },
   "outputs": [],
   "source": [
    "#import\n",
    "\n",
    "#library\n",
    "import altair as alt\n",
    "import matplotlib.pyplot as plt\n",
    "import numpy as np\n",
    "import pandas as pd\n",
    "from sklearn import set_config\n",
    "from sklearn.compose import ColumnTransformer\n",
    "from sklearn.compose import make_column_transformer \n",
    "from sklearn.metrics import confusion_matrix\n",
    "from sklearn.model_selection import GridSearchCV, cross_validate\n",
    "from sklearn.neighbors import KNeighborsClassifier\n",
    "from sklearn.model_selection import cross_val_score, cross_validate, train_test_split\n",
    "from sklearn.pipeline import Pipeline, make_pipeline\n",
    "from sklearn.preprocessing import OneHotEncoder, OrdinalEncoder, StandardScaler\n",
    "\n",
    "\n",
    "alt.data_transformers.disable_max_rows()\n",
    "set_config(transform_output=\"pandas\")\n"
   ]
  },
  {
   "cell_type": "code",
   "execution_count": 2,
   "id": "af41ca7a-4cdf-4d6e-b17d-743d43657269",
   "metadata": {
    "tags": []
   },
   "outputs": [
    {
     "data": {
      "text/html": [
       "<div>\n",
       "<style scoped>\n",
       "    .dataframe tbody tr th:only-of-type {\n",
       "        vertical-align: middle;\n",
       "    }\n",
       "\n",
       "    .dataframe tbody tr th {\n",
       "        vertical-align: top;\n",
       "    }\n",
       "\n",
       "    .dataframe thead th {\n",
       "        text-align: right;\n",
       "    }\n",
       "</style>\n",
       "<table border=\"1\" class=\"dataframe\">\n",
       "  <thead>\n",
       "    <tr style=\"text-align: right;\">\n",
       "      <th></th>\n",
       "      <th>age</th>\n",
       "      <th>sex</th>\n",
       "      <th>cp</th>\n",
       "      <th>trestbps</th>\n",
       "      <th>chol</th>\n",
       "      <th>fbs</th>\n",
       "      <th>restecg</th>\n",
       "      <th>thalach</th>\n",
       "      <th>exang</th>\n",
       "      <th>oldpeak</th>\n",
       "      <th>slope</th>\n",
       "      <th>ca</th>\n",
       "      <th>thal</th>\n",
       "      <th>num</th>\n",
       "    </tr>\n",
       "  </thead>\n",
       "  <tbody>\n",
       "    <tr>\n",
       "      <th>0</th>\n",
       "      <td>63</td>\n",
       "      <td>1</td>\n",
       "      <td>1</td>\n",
       "      <td>145</td>\n",
       "      <td>233</td>\n",
       "      <td>1</td>\n",
       "      <td>2</td>\n",
       "      <td>150</td>\n",
       "      <td>0</td>\n",
       "      <td>2.3</td>\n",
       "      <td>3</td>\n",
       "      <td>0.0</td>\n",
       "      <td>6.0</td>\n",
       "      <td>0</td>\n",
       "    </tr>\n",
       "    <tr>\n",
       "      <th>1</th>\n",
       "      <td>67</td>\n",
       "      <td>1</td>\n",
       "      <td>4</td>\n",
       "      <td>160</td>\n",
       "      <td>286</td>\n",
       "      <td>0</td>\n",
       "      <td>2</td>\n",
       "      <td>108</td>\n",
       "      <td>1</td>\n",
       "      <td>1.5</td>\n",
       "      <td>2</td>\n",
       "      <td>3.0</td>\n",
       "      <td>3.0</td>\n",
       "      <td>2</td>\n",
       "    </tr>\n",
       "    <tr>\n",
       "      <th>2</th>\n",
       "      <td>67</td>\n",
       "      <td>1</td>\n",
       "      <td>4</td>\n",
       "      <td>120</td>\n",
       "      <td>229</td>\n",
       "      <td>0</td>\n",
       "      <td>2</td>\n",
       "      <td>129</td>\n",
       "      <td>1</td>\n",
       "      <td>2.6</td>\n",
       "      <td>2</td>\n",
       "      <td>2.0</td>\n",
       "      <td>7.0</td>\n",
       "      <td>1</td>\n",
       "    </tr>\n",
       "    <tr>\n",
       "      <th>3</th>\n",
       "      <td>37</td>\n",
       "      <td>1</td>\n",
       "      <td>3</td>\n",
       "      <td>130</td>\n",
       "      <td>250</td>\n",
       "      <td>0</td>\n",
       "      <td>0</td>\n",
       "      <td>187</td>\n",
       "      <td>0</td>\n",
       "      <td>3.5</td>\n",
       "      <td>3</td>\n",
       "      <td>0.0</td>\n",
       "      <td>3.0</td>\n",
       "      <td>0</td>\n",
       "    </tr>\n",
       "    <tr>\n",
       "      <th>4</th>\n",
       "      <td>41</td>\n",
       "      <td>0</td>\n",
       "      <td>2</td>\n",
       "      <td>130</td>\n",
       "      <td>204</td>\n",
       "      <td>0</td>\n",
       "      <td>2</td>\n",
       "      <td>172</td>\n",
       "      <td>0</td>\n",
       "      <td>1.4</td>\n",
       "      <td>1</td>\n",
       "      <td>0.0</td>\n",
       "      <td>3.0</td>\n",
       "      <td>0</td>\n",
       "    </tr>\n",
       "  </tbody>\n",
       "</table>\n",
       "</div>"
      ],
      "text/plain": [
       "   age  sex  cp  trestbps  chol  fbs  restecg  thalach  exang  oldpeak  slope  \\\n",
       "0   63    1   1       145   233    1        2      150      0      2.3      3   \n",
       "1   67    1   4       160   286    0        2      108      1      1.5      2   \n",
       "2   67    1   4       120   229    0        2      129      1      2.6      2   \n",
       "3   37    1   3       130   250    0        0      187      0      3.5      3   \n",
       "4   41    0   2       130   204    0        2      172      0      1.4      1   \n",
       "\n",
       "    ca  thal  num  \n",
       "0  0.0   6.0    0  \n",
       "1  3.0   3.0    2  \n",
       "2  2.0   7.0    1  \n",
       "3  0.0   3.0    0  \n",
       "4  0.0   3.0    0  "
      ]
     },
     "execution_count": 2,
     "metadata": {},
     "output_type": "execute_result"
    }
   ],
   "source": [
    "heart_disease = pd.read_csv('https://archive.ics.uci.edu/static/public/45/data.csv').dropna()\n",
    "\n",
    "heart_disease.head()"
   ]
  },
  {
   "cell_type": "markdown",
   "id": "8289ba80-cc0a-43ac-85ee-d3a11425c19e",
   "metadata": {},
   "source": [
    "#### Validate the dataset"
   ]
  },
  {
   "cell_type": "code",
   "execution_count": 3,
   "id": "989cbb65-222f-4086-af67-c84f33c6a3af",
   "metadata": {
    "tags": []
   },
   "outputs": [
    {
     "name": "stdout",
     "output_type": "stream",
     "text": [
      "age           int64\n",
      "sex           int64\n",
      "cp            int64\n",
      "trestbps      int64\n",
      "chol          int64\n",
      "fbs           int64\n",
      "restecg       int64\n",
      "thalach       int64\n",
      "exang         int64\n",
      "oldpeak     float64\n",
      "slope         int64\n",
      "ca          float64\n",
      "thal        float64\n",
      "num           int64\n",
      "dtype: object\n"
     ]
    }
   ],
   "source": [
    "print(heart_disease.dtypes)"
   ]
  },
  {
   "cell_type": "markdown",
   "id": "df3d405c-b804-4d57-8e9f-33bc9acba9bc",
   "metadata": {
    "tags": []
   },
   "source": [
    "#### Split the dataset into train and test set"
   ]
  },
  {
   "cell_type": "code",
   "execution_count": 4,
   "id": "024ae4ad-aed6-4555-8f70-a56d55268a87",
   "metadata": {
    "tags": []
   },
   "outputs": [
    {
     "data": {
      "text/plain": [
       "(237, 14)"
      ]
     },
     "execution_count": 4,
     "metadata": {},
     "output_type": "execute_result"
    }
   ],
   "source": [
    "train_df, test_df = train_test_split(heart_disease, test_size=0.2, random_state=123)\n",
    "train_df.shape"
   ]
  },
  {
   "cell_type": "markdown",
   "id": "e72bcf38-16df-4c64-b253-4c083ffe7fde",
   "metadata": {
    "tags": []
   },
   "source": [
    "#### Preprocessing"
   ]
  },
  {
   "cell_type": "code",
   "execution_count": 5,
   "id": "320de047-bf99-4473-968e-e3a47575765b",
   "metadata": {
    "tags": []
   },
   "outputs": [
    {
     "data": {
      "text/html": [
       "<div>\n",
       "<style scoped>\n",
       "    .dataframe tbody tr th:only-of-type {\n",
       "        vertical-align: middle;\n",
       "    }\n",
       "\n",
       "    .dataframe tbody tr th {\n",
       "        vertical-align: top;\n",
       "    }\n",
       "\n",
       "    .dataframe thead th {\n",
       "        text-align: right;\n",
       "    }\n",
       "</style>\n",
       "<table border=\"1\" class=\"dataframe\">\n",
       "  <thead>\n",
       "    <tr style=\"text-align: right;\">\n",
       "      <th></th>\n",
       "      <th>trestbps</th>\n",
       "      <th>chol</th>\n",
       "      <th>age</th>\n",
       "      <th>sex</th>\n",
       "      <th>cp</th>\n",
       "      <th>fbs</th>\n",
       "      <th>restecg</th>\n",
       "      <th>thalach</th>\n",
       "      <th>exang</th>\n",
       "      <th>oldpeak</th>\n",
       "      <th>slope</th>\n",
       "      <th>ca</th>\n",
       "      <th>thal</th>\n",
       "      <th>num</th>\n",
       "    </tr>\n",
       "  </thead>\n",
       "  <tbody>\n",
       "    <tr>\n",
       "      <th>53</th>\n",
       "      <td>-0.140152</td>\n",
       "      <td>-0.532836</td>\n",
       "      <td>44</td>\n",
       "      <td>1</td>\n",
       "      <td>2</td>\n",
       "      <td>0</td>\n",
       "      <td>2</td>\n",
       "      <td>188</td>\n",
       "      <td>0</td>\n",
       "      <td>0.0</td>\n",
       "      <td>1</td>\n",
       "      <td>0.0</td>\n",
       "      <td>3.0</td>\n",
       "      <td>0</td>\n",
       "    </tr>\n",
       "    <tr>\n",
       "      <th>267</th>\n",
       "      <td>-0.374481</td>\n",
       "      <td>-0.553019</td>\n",
       "      <td>59</td>\n",
       "      <td>1</td>\n",
       "      <td>3</td>\n",
       "      <td>1</td>\n",
       "      <td>0</td>\n",
       "      <td>134</td>\n",
       "      <td>0</td>\n",
       "      <td>2.2</td>\n",
       "      <td>2</td>\n",
       "      <td>1.0</td>\n",
       "      <td>6.0</td>\n",
       "      <td>2</td>\n",
       "    </tr>\n",
       "    <tr>\n",
       "      <th>96</th>\n",
       "      <td>-1.311796</td>\n",
       "      <td>-0.129185</td>\n",
       "      <td>59</td>\n",
       "      <td>1</td>\n",
       "      <td>4</td>\n",
       "      <td>0</td>\n",
       "      <td>2</td>\n",
       "      <td>142</td>\n",
       "      <td>1</td>\n",
       "      <td>1.2</td>\n",
       "      <td>2</td>\n",
       "      <td>1.0</td>\n",
       "      <td>7.0</td>\n",
       "      <td>2</td>\n",
       "    </tr>\n",
       "    <tr>\n",
       "      <th>265</th>\n",
       "      <td>0.211341</td>\n",
       "      <td>1.404688</td>\n",
       "      <td>42</td>\n",
       "      <td>1</td>\n",
       "      <td>4</td>\n",
       "      <td>0</td>\n",
       "      <td>0</td>\n",
       "      <td>125</td>\n",
       "      <td>1</td>\n",
       "      <td>1.8</td>\n",
       "      <td>2</td>\n",
       "      <td>0.0</td>\n",
       "      <td>6.0</td>\n",
       "      <td>2</td>\n",
       "    </tr>\n",
       "    <tr>\n",
       "      <th>235</th>\n",
       "      <td>-0.608810</td>\n",
       "      <td>0.819394</td>\n",
       "      <td>54</td>\n",
       "      <td>1</td>\n",
       "      <td>4</td>\n",
       "      <td>0</td>\n",
       "      <td>2</td>\n",
       "      <td>116</td>\n",
       "      <td>1</td>\n",
       "      <td>3.2</td>\n",
       "      <td>2</td>\n",
       "      <td>2.0</td>\n",
       "      <td>3.0</td>\n",
       "      <td>3</td>\n",
       "    </tr>\n",
       "    <tr>\n",
       "      <th>...</th>\n",
       "      <td>...</td>\n",
       "      <td>...</td>\n",
       "      <td>...</td>\n",
       "      <td>...</td>\n",
       "      <td>...</td>\n",
       "      <td>...</td>\n",
       "      <td>...</td>\n",
       "      <td>...</td>\n",
       "      <td>...</td>\n",
       "      <td>...</td>\n",
       "      <td>...</td>\n",
       "      <td>...</td>\n",
       "      <td>...</td>\n",
       "      <td>...</td>\n",
       "    </tr>\n",
       "    <tr>\n",
       "      <th>107</th>\n",
       "      <td>-0.257317</td>\n",
       "      <td>-0.331011</td>\n",
       "      <td>57</td>\n",
       "      <td>1</td>\n",
       "      <td>3</td>\n",
       "      <td>0</td>\n",
       "      <td>2</td>\n",
       "      <td>150</td>\n",
       "      <td>0</td>\n",
       "      <td>0.4</td>\n",
       "      <td>2</td>\n",
       "      <td>1.0</td>\n",
       "      <td>7.0</td>\n",
       "      <td>1</td>\n",
       "    </tr>\n",
       "    <tr>\n",
       "      <th>83</th>\n",
       "      <td>2.788957</td>\n",
       "      <td>0.577204</td>\n",
       "      <td>68</td>\n",
       "      <td>1</td>\n",
       "      <td>3</td>\n",
       "      <td>1</td>\n",
       "      <td>2</td>\n",
       "      <td>150</td>\n",
       "      <td>1</td>\n",
       "      <td>1.6</td>\n",
       "      <td>2</td>\n",
       "      <td>0.0</td>\n",
       "      <td>7.0</td>\n",
       "      <td>3</td>\n",
       "    </tr>\n",
       "    <tr>\n",
       "      <th>17</th>\n",
       "      <td>0.445670</td>\n",
       "      <td>-0.129185</td>\n",
       "      <td>54</td>\n",
       "      <td>1</td>\n",
       "      <td>4</td>\n",
       "      <td>0</td>\n",
       "      <td>0</td>\n",
       "      <td>160</td>\n",
       "      <td>0</td>\n",
       "      <td>1.2</td>\n",
       "      <td>1</td>\n",
       "      <td>0.0</td>\n",
       "      <td>3.0</td>\n",
       "      <td>0</td>\n",
       "    </tr>\n",
       "    <tr>\n",
       "      <th>233</th>\n",
       "      <td>-0.725974</td>\n",
       "      <td>0.476291</td>\n",
       "      <td>74</td>\n",
       "      <td>0</td>\n",
       "      <td>2</td>\n",
       "      <td>0</td>\n",
       "      <td>2</td>\n",
       "      <td>121</td>\n",
       "      <td>1</td>\n",
       "      <td>0.2</td>\n",
       "      <td>1</td>\n",
       "      <td>1.0</td>\n",
       "      <td>3.0</td>\n",
       "      <td>0</td>\n",
       "    </tr>\n",
       "    <tr>\n",
       "      <th>99</th>\n",
       "      <td>-0.608810</td>\n",
       "      <td>-0.472288</td>\n",
       "      <td>48</td>\n",
       "      <td>1</td>\n",
       "      <td>4</td>\n",
       "      <td>0</td>\n",
       "      <td>2</td>\n",
       "      <td>186</td>\n",
       "      <td>0</td>\n",
       "      <td>0.0</td>\n",
       "      <td>1</td>\n",
       "      <td>0.0</td>\n",
       "      <td>3.0</td>\n",
       "      <td>0</td>\n",
       "    </tr>\n",
       "  </tbody>\n",
       "</table>\n",
       "<p>237 rows × 14 columns</p>\n",
       "</div>"
      ],
      "text/plain": [
       "     trestbps      chol  age  sex  cp  fbs  restecg  thalach  exang  oldpeak  \\\n",
       "53  -0.140152 -0.532836   44    1   2    0        2      188      0      0.0   \n",
       "267 -0.374481 -0.553019   59    1   3    1        0      134      0      2.2   \n",
       "96  -1.311796 -0.129185   59    1   4    0        2      142      1      1.2   \n",
       "265  0.211341  1.404688   42    1   4    0        0      125      1      1.8   \n",
       "235 -0.608810  0.819394   54    1   4    0        2      116      1      3.2   \n",
       "..        ...       ...  ...  ...  ..  ...      ...      ...    ...      ...   \n",
       "107 -0.257317 -0.331011   57    1   3    0        2      150      0      0.4   \n",
       "83   2.788957  0.577204   68    1   3    1        2      150      1      1.6   \n",
       "17   0.445670 -0.129185   54    1   4    0        0      160      0      1.2   \n",
       "233 -0.725974  0.476291   74    0   2    0        2      121      1      0.2   \n",
       "99  -0.608810 -0.472288   48    1   4    0        2      186      0      0.0   \n",
       "\n",
       "     slope   ca  thal  num  \n",
       "53       1  0.0   3.0    0  \n",
       "267      2  1.0   6.0    2  \n",
       "96       2  1.0   7.0    2  \n",
       "265      2  0.0   6.0    2  \n",
       "235      2  2.0   3.0    3  \n",
       "..     ...  ...   ...  ...  \n",
       "107      2  1.0   7.0    1  \n",
       "83       2  0.0   7.0    3  \n",
       "17       1  0.0   3.0    0  \n",
       "233      1  1.0   3.0    0  \n",
       "99       1  0.0   3.0    0  \n",
       "\n",
       "[237 rows x 14 columns]"
      ]
     },
     "execution_count": 5,
     "metadata": {},
     "output_type": "execute_result"
    }
   ],
   "source": [
    "preprocessor = make_column_transformer(\n",
    "     (StandardScaler(),[\"trestbps\", \"chol\"]),\n",
    "     remainder=\"passthrough\",\n",
    "    verbose_feature_names_out=False,\n",
    ")\n",
    "train_scaled = preprocessor.fit_transform(train_df)\n",
    "test_scaled =  preprocessor.fit_transform(test_df)\n",
    "train_scaled"
   ]
  },
  {
   "cell_type": "markdown",
   "id": "e60629ab-d15e-4c79-bb0e-f2d31b28db98",
   "metadata": {},
   "source": [
    "#### Summarize the data"
   ]
  },
  {
   "cell_type": "code",
   "execution_count": 6,
   "id": "bfde657a-a438-48de-b5ad-3a4c8c3e03fc",
   "metadata": {
    "tags": []
   },
   "outputs": [
    {
     "data": {
      "text/html": [
       "<div>\n",
       "<style scoped>\n",
       "    .dataframe tbody tr th:only-of-type {\n",
       "        vertical-align: middle;\n",
       "    }\n",
       "\n",
       "    .dataframe tbody tr th {\n",
       "        vertical-align: top;\n",
       "    }\n",
       "\n",
       "    .dataframe thead th {\n",
       "        text-align: right;\n",
       "    }\n",
       "</style>\n",
       "<table border=\"1\" class=\"dataframe\">\n",
       "  <thead>\n",
       "    <tr style=\"text-align: right;\">\n",
       "      <th></th>\n",
       "      <th>num</th>\n",
       "      <th>count</th>\n",
       "    </tr>\n",
       "  </thead>\n",
       "  <tbody>\n",
       "    <tr>\n",
       "      <th>0</th>\n",
       "      <td>0</td>\n",
       "      <td>127</td>\n",
       "    </tr>\n",
       "    <tr>\n",
       "      <th>1</th>\n",
       "      <td>1</td>\n",
       "      <td>44</td>\n",
       "    </tr>\n",
       "    <tr>\n",
       "      <th>2</th>\n",
       "      <td>2</td>\n",
       "      <td>27</td>\n",
       "    </tr>\n",
       "    <tr>\n",
       "      <th>3</th>\n",
       "      <td>3</td>\n",
       "      <td>27</td>\n",
       "    </tr>\n",
       "    <tr>\n",
       "      <th>4</th>\n",
       "      <td>4</td>\n",
       "      <td>12</td>\n",
       "    </tr>\n",
       "  </tbody>\n",
       "</table>\n",
       "</div>"
      ],
      "text/plain": [
       "   num  count\n",
       "0    0    127\n",
       "1    1     44\n",
       "2    2     27\n",
       "3    3     27\n",
       "4    4     12"
      ]
     },
     "execution_count": 6,
     "metadata": {},
     "output_type": "execute_result"
    }
   ],
   "source": [
    "heart_disease_explorea = pd.DataFrame(train_df.groupby([\"num\"]).size()).reset_index()\n",
    "heart_disease_explorea.rename(columns={0: 'count'})"
   ]
  },
  {
   "cell_type": "markdown",
   "id": "09276085-a2d6-481b-9989-1bc1b4834ba5",
   "metadata": {},
   "source": [
    "#### Visualize the data"
   ]
  },
  {
   "cell_type": "code",
   "execution_count": 7,
   "id": "c7b866d3-9fb3-4fa6-90fb-65288421c983",
   "metadata": {
    "tags": []
   },
   "outputs": [
    {
     "data": {
      "text/plain": [
       "array([[<AxesSubplot: title={'center': 'trestbps'}>,\n",
       "        <AxesSubplot: title={'center': 'chol'}>],\n",
       "       [<AxesSubplot: title={'center': 'num'}>, <AxesSubplot: >]],\n",
       "      dtype=object)"
      ]
     },
     "execution_count": 7,
     "metadata": {},
     "output_type": "execute_result"
    },
    {
     "data": {
      "image/png": "[encoded data removed]",
      "text/plain": [
       "<Figure size 800x300 with 4 Axes>"
      ]
     },
     "metadata": {},
     "output_type": "display_data"
    }
   ],
   "source": [
    "train_scaled[['trestbps', 'chol', 'num']].hist(bins=30, figsize=(8, 3))"
   ]
  },
  {
   "cell_type": "code",
   "execution_count": 8,
   "id": "b9a59af6-eafe-4299-94b0-336929ef3b20",
   "metadata": {
    "tags": []
   },
   "outputs": [
    {
     "data": {
      "text/html": [
       "\n",
       "<div id=\"altair-viz-a80a6c264fc8417099d953e8770b928b\"></div>\n",
       "<script type=\"text/javascript\">\n",
       "  var VEGA_DEBUG = (typeof VEGA_DEBUG == \"undefined\") ? {} : VEGA_DEBUG;\n",
       "  (function(spec, embedOpt){\n",
       "    let outputDiv = document.currentScript.previousElementSibling;\n",
       "    if (outputDiv.id !== \"altair-viz-a80a6c264fc8417099d953e8770b928b\") {\n",
       "      outputDiv = document.getElementById(\"altair-viz-a80a6c264fc8417099d953e8770b928b\");\n",
       "    }\n",
       "    const paths = {\n",
       "      \"vega\": \"https://cdn.jsdelivr.net/npm//vega@5?noext\",\n",
       "      \"vega-lib\": \"https://cdn.jsdelivr.net/npm//vega-lib?noext\",\n",
       "      \"vega-lite\": \"https://cdn.jsdelivr.net/npm//vega-lite@4.17.0?noext\",\n",
       "      \"vega-embed\": \"https://cdn.jsdelivr.net/npm//vega-embed@6?noext\",\n",
       "    };\n",
       "\n",
       "    function maybeLoadScript(lib, version) {\n",
       "      var key = `${lib.replace(\"-\", \"\")}_version`;\n",
       "      return (VEGA_DEBUG[key] == version) ?\n",
       "        Promise.resolve(paths[lib]) :\n",
       "        new Promise(function(resolve, reject) {\n",
       "          var s = document.createElement('script');\n",
       "          document.getElementsByTagName(\"head\")[0].appendChild(s);\n",
       "          s.async = true;\n",
       "          s.onload = () => {\n",
       "            VEGA_DEBUG[key] = version;\n",
       "            return resolve(paths[lib]);\n",
       "          };\n",
       "          s.onerror = () => reject(`Error loading script: ${paths[lib]}`);\n",
       "          s.src = paths[lib];\n",
       "        });\n",
       "    }\n",
       "\n",
       "    function showError(err) {\n",
       "      outputDiv.innerHTML = `<div class=\"error\" style=\"color:red;\">${err}</div>`;\n",
       "      throw err;\n",
       "    }\n",
       "\n",
       "    function displayChart(vegaEmbed) {\n",
       "      vegaEmbed(outputDiv, spec, embedOpt)\n",
       "        .catch(err => showError(`Javascript Error: ${err.message}<br>This usually means there's a typo in your chart specification. See the javascript console for the full traceback.`));\n",
       "    }\n",
       "\n",
       "    if(typeof define === \"function\" && define.amd) {\n",
       "      requirejs.config({paths});\n",
       "      require([\"vega-embed\"], displayChart, err => showError(`Error loading script: ${err.message}`));\n",
       "    } else {\n",
       "      maybeLoadScript(\"vega\", \"5\")\n",
       "        .then(() => maybeLoadScript(\"vega-lite\", \"4.17.0\"))\n",
       "        .then(() => maybeLoadScript(\"vega-embed\", \"6\"))\n",
       "        .catch(showError)\n",
       "        .then(() => displayChart(vegaEmbed));\n",
       "    }\n",
       "  })({\"config\": {\"view\": {\"continuousWidth\": 400, \"continuousHeight\": 300}}, \"data\": {\"name\": \"data-2b0b8aabf5cbce1532708872455de71c\"}, \"mark\": \"point\", \"encoding\": {\"color\": {\"field\": \"presence\", \"title\": \"presence of heart disease\", \"type\": \"nominal\"}, \"x\": {\"field\": \"trestbps\", \"scale\": {\"zero\": false}, \"title\": \"Resting Blood Pressure on Admission to Hospital (Standarized)\", \"type\": \"quantitative\"}, \"y\": {\"field\": \"chol\", \"scale\": {\"zero\": false}, \"title\": \"Serum Cholesterol (Standardized)\", \"type\": \"quantitative\"}}, \"title\": \"The relationshp of Serum Cholesterol and Resting Blood Pressure toward Heart disease\", \"$schema\": \"https://vega.github.io/schema/vega-lite/v4.17.0.json\", \"datasets\": {\"data-2b0b8aabf5cbce1532708872455de71c\": [{\"trestbps\": -0.14015232139022102, \"chol\": -0.5328360295861883, \"age\": 44, \"sex\": 1, \"cp\": 2, \"fbs\": 0, \"restecg\": 2, \"thalach\": 188, \"exang\": 0, \"oldpeak\": 0.0, \"slope\": 1, \"ca\": 0.0, \"thal\": 3.0, \"num\": 0, \"presence\": \"N\"}, {\"trestbps\": -0.37448107038127865, \"chol\": -0.5530185673857609, \"age\": 59, \"sex\": 1, \"cp\": 3, \"fbs\": 1, \"restecg\": 0, \"thalach\": 134, \"exang\": 0, \"oldpeak\": 2.2, \"slope\": 2, \"ca\": 1.0, \"thal\": 6.0, \"num\": 2, \"presence\": \"Y\"}, {\"trestbps\": -1.3117960663455093, \"chol\": -0.12918527359473336, \"age\": 59, \"sex\": 1, \"cp\": 4, \"fbs\": 0, \"restecg\": 2, \"thalach\": 142, \"exang\": 1, \"oldpeak\": 1.2, \"slope\": 2, \"ca\": 1.0, \"thal\": 7.0, \"num\": 2, \"presence\": \"Y\"}, {\"trestbps\": 0.2113408020963655, \"chol\": 1.4046875991727952, \"age\": 42, \"sex\": 1, \"cp\": 4, \"fbs\": 0, \"restecg\": 0, \"thalach\": 125, \"exang\": 1, \"oldpeak\": 1.8, \"slope\": 2, \"ca\": 0.0, \"thal\": 6.0, \"num\": 2, \"presence\": \"Y\"}, {\"trestbps\": -0.6088098193723364, \"chol\": 0.8193940029851855, \"age\": 54, \"sex\": 1, \"cp\": 4, \"fbs\": 0, \"restecg\": 2, \"thalach\": 116, \"exang\": 1, \"oldpeak\": 3.2, \"slope\": 2, \"ca\": 2.0, \"thal\": 3.0, \"num\": 3, \"presence\": \"Y\"}, {\"trestbps\": 0.562833925582952, \"chol\": -1.3805026171682435, \"age\": 46, \"sex\": 0, \"cp\": 3, \"fbs\": 0, \"restecg\": 2, \"thalach\": 160, \"exang\": 1, \"oldpeak\": 1.4, \"slope\": 3, \"ca\": 0.0, \"thal\": 3.0, \"num\": 0, \"presence\": \"N\"}, {\"trestbps\": 0.562833925582952, \"chol\": -0.391558264989179, \"age\": 53, \"sex\": 1, \"cp\": 4, \"fbs\": 0, \"restecg\": 2, \"thalach\": 111, \"exang\": 1, \"oldpeak\": 0.0, \"slope\": 1, \"ca\": 0.0, \"thal\": 7.0, \"num\": 0, \"presence\": \"N\"}, {\"trestbps\": -0.7259741938678652, \"chol\": -1.3805026171682435, \"age\": 43, \"sex\": 1, \"cp\": 4, \"fbs\": 0, \"restecg\": 2, \"thalach\": 120, \"exang\": 1, \"oldpeak\": 2.5, \"slope\": 2, \"ca\": 0.0, \"thal\": 7.0, \"num\": 3, \"presence\": \"Y\"}, {\"trestbps\": 1.0314914235650674, \"chol\": -0.02827258459686965, \"age\": 62, \"sex\": 0, \"cp\": 4, \"fbs\": 0, \"restecg\": 0, \"thalach\": 154, \"exang\": 1, \"oldpeak\": 1.4, \"slope\": 2, \"ca\": 0.0, \"thal\": 3.0, \"num\": 1, \"presence\": \"Y\"}, {\"trestbps\": 1.0314914235650674, \"chol\": 0.7588463895864673, \"age\": 58, \"sex\": 0, \"cp\": 1, \"fbs\": 1, \"restecg\": 2, \"thalach\": 162, \"exang\": 0, \"oldpeak\": 1.0, \"slope\": 1, \"ca\": 0.0, \"thal\": 3.0, \"num\": 0, \"presence\": \"N\"}, {\"trestbps\": 0.3285051765918943, \"chol\": -1.6025105329635436, \"age\": 61, \"sex\": 1, \"cp\": 4, \"fbs\": 0, \"restecg\": 2, \"thalach\": 125, \"exang\": 1, \"oldpeak\": 3.6, \"slope\": 2, \"ca\": 1.0, \"thal\": 3.0, \"num\": 4, \"presence\": \"Y\"}, {\"trestbps\": 1.6173132960427115, \"chol\": 0.8799416163839038, \"age\": 55, \"sex\": 1, \"cp\": 4, \"fbs\": 0, \"restecg\": 2, \"thalach\": 145, \"exang\": 1, \"oldpeak\": 0.8, \"slope\": 2, \"ca\": 1.0, \"thal\": 7.0, \"num\": 4, \"presence\": \"Y\"}, {\"trestbps\": -1.4289604408410381, \"chol\": 0.4359257847933034, \"age\": 54, \"sex\": 0, \"cp\": 3, \"fbs\": 0, \"restecg\": 2, \"thalach\": 167, \"exang\": 0, \"oldpeak\": 0.0, \"slope\": 1, \"ca\": 0.0, \"thal\": 3.0, \"num\": 0, \"presence\": \"N\"}, {\"trestbps\": -0.7259741938678652, \"chol\": -0.1897328869934516, \"age\": 56, \"sex\": 1, \"cp\": 2, \"fbs\": 0, \"restecg\": 0, \"thalach\": 178, \"exang\": 0, \"oldpeak\": 0.8, \"slope\": 1, \"ca\": 0.0, \"thal\": 3.0, \"num\": 0, \"presence\": \"N\"}, {\"trestbps\": -1.3117960663455093, \"chol\": -0.8961217099784976, \"age\": 57, \"sex\": 1, \"cp\": 4, \"fbs\": 0, \"restecg\": 0, \"thalach\": 126, \"exang\": 1, \"oldpeak\": 1.5, \"slope\": 2, \"ca\": 0.0, \"thal\": 6.0, \"num\": 0, \"presence\": \"N\"}, {\"trestbps\": 1.265820172556125, \"chol\": -0.27046303819174256, \"age\": 57, \"sex\": 1, \"cp\": 2, \"fbs\": 0, \"restecg\": 2, \"thalach\": 164, \"exang\": 0, \"oldpeak\": 0.0, \"slope\": 1, \"ca\": 1.0, \"thal\": 3.0, \"num\": 1, \"presence\": \"Y\"}, {\"trestbps\": -0.4916454448768075, \"chol\": 0.31483055799586696, \"age\": 57, \"sex\": 1, \"cp\": 2, \"fbs\": 0, \"restecg\": 0, \"thalach\": 141, \"exang\": 0, \"oldpeak\": 0.3, \"slope\": 1, \"ca\": 0.0, \"thal\": 7.0, \"num\": 1, \"presence\": \"Y\"}, {\"trestbps\": -0.7259741938678652, \"chol\": 2.191806573356132, \"age\": 57, \"sex\": 0, \"cp\": 4, \"fbs\": 0, \"restecg\": 0, \"thalach\": 163, \"exang\": 1, \"oldpeak\": 0.6, \"slope\": 1, \"ca\": 0.0, \"thal\": 3.0, \"num\": 0, \"presence\": \"N\"}, {\"trestbps\": -0.7259741938678652, \"chol\": -0.10900273579516062, \"age\": 42, \"sex\": 1, \"cp\": 3, \"fbs\": 1, \"restecg\": 0, \"thalach\": 194, \"exang\": 0, \"oldpeak\": 0.8, \"slope\": 3, \"ca\": 0.0, \"thal\": 7.0, \"num\": 0, \"presence\": \"N\"}, {\"trestbps\": 2.4374639175114132, \"chol\": 0.07264010440099407, \"age\": 59, \"sex\": 0, \"cp\": 4, \"fbs\": 0, \"restecg\": 0, \"thalach\": 143, \"exang\": 1, \"oldpeak\": 0.0, \"slope\": 2, \"ca\": 0.0, \"thal\": 3.0, \"num\": 1, \"presence\": \"Y\"}, {\"trestbps\": -0.7259741938678652, \"chol\": 1.1423146077783495, \"age\": 66, \"sex\": 1, \"cp\": 4, \"fbs\": 0, \"restecg\": 2, \"thalach\": 151, \"exang\": 0, \"oldpeak\": 0.4, \"slope\": 2, \"ca\": 0.0, \"thal\": 3.0, \"num\": 0, \"presence\": \"N\"}, {\"trestbps\": 0.4456695510874231, \"chol\": 1.0817669943796313, \"age\": 51, \"sex\": 1, \"cp\": 4, \"fbs\": 0, \"restecg\": 0, \"thalach\": 173, \"exang\": 1, \"oldpeak\": 1.6, \"slope\": 1, \"ca\": 0.0, \"thal\": 7.0, \"num\": 1, \"presence\": \"Y\"}, {\"trestbps\": -0.37448107038127865, \"chol\": 1.2230447589766404, \"age\": 41, \"sex\": 0, \"cp\": 2, \"fbs\": 0, \"restecg\": 0, \"thalach\": 163, \"exang\": 0, \"oldpeak\": 0.0, \"slope\": 1, \"ca\": 0.0, \"thal\": 3.0, \"num\": 0, \"presence\": \"N\"}, {\"trestbps\": -0.4330632576290431, \"chol\": -0.008090046797296907, \"age\": 51, \"sex\": 1, \"cp\": 3, \"fbs\": 1, \"restecg\": 2, \"thalach\": 166, \"exang\": 0, \"oldpeak\": 2.4, \"slope\": 2, \"ca\": 0.0, \"thal\": 3.0, \"num\": 0, \"presence\": \"N\"}, {\"trestbps\": -0.022987946894692177, \"chol\": 1.9496161197612591, \"age\": 55, \"sex\": 0, \"cp\": 2, \"fbs\": 0, \"restecg\": 0, \"thalach\": 166, \"exang\": 0, \"oldpeak\": 1.2, \"slope\": 1, \"ca\": 0.0, \"thal\": 3.0, \"num\": 0, \"presence\": \"N\"}, {\"trestbps\": 0.09417642760083665, \"chol\": 3.301846152332633, \"age\": 56, \"sex\": 0, \"cp\": 4, \"fbs\": 0, \"restecg\": 2, \"thalach\": 150, \"exang\": 1, \"oldpeak\": 1.9, \"slope\": 2, \"ca\": 2.0, \"thal\": 7.0, \"num\": 2, \"presence\": \"Y\"}, {\"trestbps\": -1.6047070025843313, \"chol\": -0.10900273579516062, \"age\": 58, \"sex\": 1, \"cp\": 3, \"fbs\": 0, \"restecg\": 2, \"thalach\": 154, \"exang\": 1, \"oldpeak\": 0.6, \"slope\": 2, \"ca\": 0.0, \"thal\": 7.0, \"num\": 0, \"presence\": \"N\"}, {\"trestbps\": -0.4916454448768075, \"chol\": -0.7346614075819157, \"age\": 62, \"sex\": 0, \"cp\": 4, \"fbs\": 0, \"restecg\": 0, \"thalach\": 163, \"exang\": 0, \"oldpeak\": 0.0, \"slope\": 1, \"ca\": 0.0, \"thal\": 3.0, \"num\": 0, \"presence\": \"N\"}, {\"trestbps\": 1.0314914235650674, \"chol\": 3.2614810767334874, \"age\": 63, \"sex\": 0, \"cp\": 4, \"fbs\": 0, \"restecg\": 2, \"thalach\": 154, \"exang\": 0, \"oldpeak\": 4.0, \"slope\": 2, \"ca\": 3.0, \"thal\": 7.0, \"num\": 4, \"presence\": \"Y\"}, {\"trestbps\": 0.15275861484860107, \"chol\": -0.8557566343793521, \"age\": 41, \"sex\": 1, \"cp\": 2, \"fbs\": 0, \"restecg\": 0, \"thalach\": 132, \"exang\": 0, \"oldpeak\": 0.0, \"slope\": 2, \"ca\": 0.0, \"thal\": 6.0, \"num\": 0, \"presence\": \"N\"}, {\"trestbps\": 0.09417642760083665, \"chol\": 0.5166559359915944, \"age\": 49, \"sex\": 0, \"cp\": 2, \"fbs\": 0, \"restecg\": 0, \"thalach\": 162, \"exang\": 0, \"oldpeak\": 0.0, \"slope\": 2, \"ca\": 0.0, \"thal\": 3.0, \"num\": 0, \"presence\": \"N\"}, {\"trestbps\": 1.0314914235650674, \"chol\": 0.6175686249894581, \"age\": 57, \"sex\": 1, \"cp\": 4, \"fbs\": 0, \"restecg\": 2, \"thalach\": 112, \"exang\": 1, \"oldpeak\": 0.6, \"slope\": 2, \"ca\": 1.0, \"thal\": 6.0, \"num\": 1, \"presence\": \"Y\"}, {\"trestbps\": -0.14015232139022102, \"chol\": -0.2502805003921698, \"age\": 44, \"sex\": 1, \"cp\": 3, \"fbs\": 0, \"restecg\": 0, \"thalach\": 179, \"exang\": 1, \"oldpeak\": 0.4, \"slope\": 1, \"ca\": 0.0, \"thal\": 3.0, \"num\": 0, \"presence\": \"N\"}, {\"trestbps\": -0.4916454448768075, \"chol\": 0.41574324699373066, \"age\": 54, \"sex\": 1, \"cp\": 4, \"fbs\": 0, \"restecg\": 2, \"thalach\": 109, \"exang\": 1, \"oldpeak\": 2.2, \"slope\": 2, \"ca\": 1.0, \"thal\": 7.0, \"num\": 1, \"presence\": \"Y\"}, {\"trestbps\": -0.14015232139022102, \"chol\": -0.2906455759913153, \"age\": 62, \"sex\": 1, \"cp\": 3, \"fbs\": 0, \"restecg\": 0, \"thalach\": 146, \"exang\": 0, \"oldpeak\": 1.8, \"slope\": 2, \"ca\": 3.0, \"thal\": 7.0, \"num\": 0, \"presence\": \"N\"}, {\"trestbps\": -0.022987946894692177, \"chol\": -0.4319233405883245, \"age\": 58, \"sex\": 1, \"cp\": 3, \"fbs\": 0, \"restecg\": 2, \"thalach\": 173, \"exang\": 0, \"oldpeak\": 3.2, \"slope\": 1, \"ca\": 2.0, \"thal\": 7.0, \"num\": 3, \"presence\": \"Y\"}, {\"trestbps\": 0.3285051765918943, \"chol\": 0.5166559359915944, \"age\": 59, \"sex\": 1, \"cp\": 4, \"fbs\": 0, \"restecg\": 2, \"thalach\": 182, \"exang\": 0, \"oldpeak\": 0.0, \"slope\": 1, \"ca\": 0.0, \"thal\": 3.0, \"num\": 0, \"presence\": \"N\"}, {\"trestbps\": 2.7889570409979996, \"chol\": 1.646878052767668, \"age\": 55, \"sex\": 0, \"cp\": 4, \"fbs\": 0, \"restecg\": 1, \"thalach\": 117, \"exang\": 1, \"oldpeak\": 3.4, \"slope\": 2, \"ca\": 0.0, \"thal\": 3.0, \"num\": 2, \"presence\": \"Y\"}, {\"trestbps\": -0.14015232139022102, \"chol\": -0.23009796259259707, \"age\": 45, \"sex\": 0, \"cp\": 2, \"fbs\": 0, \"restecg\": 2, \"thalach\": 175, \"exang\": 0, \"oldpeak\": 0.6, \"slope\": 2, \"ca\": 0.0, \"thal\": 3.0, \"num\": 0, \"presence\": \"N\"}, {\"trestbps\": 0.4456695510874231, \"chol\": -1.0777645501746522, \"age\": 57, \"sex\": 1, \"cp\": 4, \"fbs\": 0, \"restecg\": 0, \"thalach\": 148, \"exang\": 0, \"oldpeak\": 0.4, \"slope\": 2, \"ca\": 0.0, \"thal\": 6.0, \"num\": 0, \"presence\": \"N\"}, {\"trestbps\": -0.7259741938678652, \"chol\": 0.2946480201962942, \"age\": 61, \"sex\": 1, \"cp\": 4, \"fbs\": 0, \"restecg\": 0, \"thalach\": 140, \"exang\": 1, \"oldpeak\": 3.6, \"slope\": 2, \"ca\": 1.0, \"thal\": 7.0, \"num\": 2, \"presence\": \"Y\"}, {\"trestbps\": 1.0314914235650674, \"chol\": 0.03227502880184858, \"age\": 43, \"sex\": 1, \"cp\": 4, \"fbs\": 0, \"restecg\": 0, \"thalach\": 171, \"exang\": 0, \"oldpeak\": 1.5, \"slope\": 1, \"ca\": 0.0, \"thal\": 3.0, \"num\": 0, \"presence\": \"N\"}, {\"trestbps\": 1.0314914235650674, \"chol\": 0.4964733981920217, \"age\": 58, \"sex\": 1, \"cp\": 4, \"fbs\": 0, \"restecg\": 2, \"thalach\": 111, \"exang\": 1, \"oldpeak\": 0.8, \"slope\": 1, \"ca\": 0.0, \"thal\": 7.0, \"num\": 3, \"presence\": \"Y\"}, {\"trestbps\": -0.843138568363394, \"chol\": -0.06863766019601514, \"age\": 44, \"sex\": 0, \"cp\": 3, \"fbs\": 0, \"restecg\": 0, \"thalach\": 149, \"exang\": 0, \"oldpeak\": 0.3, \"slope\": 2, \"ca\": 1.0, \"thal\": 3.0, \"num\": 0, \"presence\": \"N\"}, {\"trestbps\": 0.9143270490695384, \"chol\": -0.8557566343793521, \"age\": 61, \"sex\": 1, \"cp\": 4, \"fbs\": 0, \"restecg\": 0, \"thalach\": 161, \"exang\": 0, \"oldpeak\": 0.0, \"slope\": 1, \"ca\": 1.0, \"thal\": 7.0, \"num\": 2, \"presence\": \"Y\"}, {\"trestbps\": 0.15275861484860107, \"chol\": -0.23009796259259707, \"age\": 59, \"sex\": 1, \"cp\": 4, \"fbs\": 0, \"restecg\": 0, \"thalach\": 161, \"exang\": 0, \"oldpeak\": 0.5, \"slope\": 2, \"ca\": 0.0, \"thal\": 7.0, \"num\": 0, \"presence\": \"N\"}, {\"trestbps\": -0.4916454448768075, \"chol\": -0.9768518611767886, \"age\": 63, \"sex\": 0, \"cp\": 4, \"fbs\": 0, \"restecg\": 0, \"thalach\": 136, \"exang\": 1, \"oldpeak\": 0.0, \"slope\": 2, \"ca\": 0.0, \"thal\": 3.0, \"num\": 1, \"presence\": \"Y\"}, {\"trestbps\": 0.4456695510874231, \"chol\": -1.2190423147716614, \"age\": 60, \"sex\": 1, \"cp\": 3, \"fbs\": 0, \"restecg\": 2, \"thalach\": 155, \"exang\": 0, \"oldpeak\": 3.0, \"slope\": 2, \"ca\": 0.0, \"thal\": 3.0, \"num\": 1, \"presence\": \"Y\"}, {\"trestbps\": -1.1946316918499804, \"chol\": -0.31082811379088804, \"age\": 52, \"sex\": 1, \"cp\": 4, \"fbs\": 0, \"restecg\": 0, \"thalach\": 160, \"exang\": 0, \"oldpeak\": 0.0, \"slope\": 1, \"ca\": 1.0, \"thal\": 3.0, \"num\": 1, \"presence\": \"Y\"}, {\"trestbps\": 1.148655798060596, \"chol\": 0.5772035493903126, \"age\": 57, \"sex\": 1, \"cp\": 4, \"fbs\": 0, \"restecg\": 0, \"thalach\": 88, \"exang\": 1, \"oldpeak\": 1.2, \"slope\": 2, \"ca\": 1.0, \"thal\": 7.0, \"num\": 1, \"presence\": \"Y\"}, {\"trestbps\": 2.2031351685203555, \"chol\": -0.37137572718960626, \"age\": 64, \"sex\": 1, \"cp\": 1, \"fbs\": 0, \"restecg\": 2, \"thalach\": 155, \"exang\": 0, \"oldpeak\": 0.6, \"slope\": 2, \"ca\": 0.0, \"thal\": 7.0, \"num\": 0, \"presence\": \"N\"}, {\"trestbps\": 1.0314914235650674, \"chol\": -0.2906455759913153, \"age\": 46, \"sex\": 1, \"cp\": 3, \"fbs\": 0, \"restecg\": 0, \"thalach\": 147, \"exang\": 0, \"oldpeak\": 3.6, \"slope\": 2, \"ca\": 0.0, \"thal\": 3.0, \"num\": 1, \"presence\": \"Y\"}, {\"trestbps\": -0.14015232139022102, \"chol\": -0.8355740965797793, \"age\": 41, \"sex\": 0, \"cp\": 2, \"fbs\": 0, \"restecg\": 2, \"thalach\": 172, \"exang\": 0, \"oldpeak\": 1.4, \"slope\": 1, \"ca\": 0.0, \"thal\": 3.0, \"num\": 0, \"presence\": \"N\"}, {\"trestbps\": -0.843138568363394, \"chol\": -1.2795899281703798, \"age\": 34, \"sex\": 1, \"cp\": 1, \"fbs\": 0, \"restecg\": 2, \"thalach\": 174, \"exang\": 0, \"oldpeak\": 0.0, \"slope\": 1, \"ca\": 0.0, \"thal\": 3.0, \"num\": 0, \"presence\": \"N\"}, {\"trestbps\": 0.4456695510874231, \"chol\": -0.9768518611767886, \"age\": 76, \"sex\": 0, \"cp\": 3, \"fbs\": 0, \"restecg\": 1, \"thalach\": 116, \"exang\": 0, \"oldpeak\": 1.1, \"slope\": 2, \"ca\": 0.0, \"thal\": 3.0, \"num\": 0, \"presence\": \"N\"}, {\"trestbps\": 2.671792666502471, \"chol\": -0.3511931893900335, \"age\": 66, \"sex\": 0, \"cp\": 4, \"fbs\": 1, \"restecg\": 0, \"thalach\": 165, \"exang\": 1, \"oldpeak\": 1.0, \"slope\": 2, \"ca\": 2.0, \"thal\": 7.0, \"num\": 3, \"presence\": \"Y\"}, {\"trestbps\": -1.1946316918499804, \"chol\": -0.6741137941831974, \"age\": 66, \"sex\": 1, \"cp\": 4, \"fbs\": 0, \"restecg\": 2, \"thalach\": 132, \"exang\": 1, \"oldpeak\": 0.1, \"slope\": 1, \"ca\": 1.0, \"thal\": 3.0, \"num\": 2, \"presence\": \"Y\"}, {\"trestbps\": 0.2113408020963655, \"chol\": -0.9970343989763613, \"age\": 52, \"sex\": 0, \"cp\": 3, \"fbs\": 0, \"restecg\": 2, \"thalach\": 169, \"exang\": 0, \"oldpeak\": 0.1, \"slope\": 2, \"ca\": 0.0, \"thal\": 3.0, \"num\": 0, \"presence\": \"N\"}, {\"trestbps\": 0.4456695510874231, \"chol\": -0.7750264831810612, \"age\": 61, \"sex\": 1, \"cp\": 4, \"fbs\": 0, \"restecg\": 2, \"thalach\": 138, \"exang\": 1, \"oldpeak\": 1.9, \"slope\": 1, \"ca\": 1.0, \"thal\": 7.0, \"num\": 1, \"presence\": \"Y\"}, {\"trestbps\": -0.7259741938678652, \"chol\": -0.16955034919387885, \"age\": 67, \"sex\": 1, \"cp\": 4, \"fbs\": 0, \"restecg\": 0, \"thalach\": 71, \"exang\": 0, \"oldpeak\": 1.0, \"slope\": 2, \"ca\": 0.0, \"thal\": 3.0, \"num\": 2, \"presence\": \"Y\"}, {\"trestbps\": 0.4456695510874231, \"chol\": -0.20991542479302433, \"age\": 44, \"sex\": 1, \"cp\": 3, \"fbs\": 0, \"restecg\": 2, \"thalach\": 180, \"exang\": 0, \"oldpeak\": 0.0, \"slope\": 1, \"ca\": 0.0, \"thal\": 3.0, \"num\": 0, \"presence\": \"N\"}, {\"trestbps\": -0.14015232139022102, \"chol\": -0.008090046797296907, \"age\": 48, \"sex\": 1, \"cp\": 2, \"fbs\": 0, \"restecg\": 2, \"thalach\": 180, \"exang\": 0, \"oldpeak\": 0.2, \"slope\": 2, \"ca\": 0.0, \"thal\": 3.0, \"num\": 0, \"presence\": \"N\"}, {\"trestbps\": 1.6173132960427115, \"chol\": 0.5570210115907399, \"age\": 59, \"sex\": 1, \"cp\": 1, \"fbs\": 0, \"restecg\": 2, \"thalach\": 125, \"exang\": 0, \"oldpeak\": 0.0, \"slope\": 1, \"ca\": 0.0, \"thal\": 3.0, \"num\": 1, \"presence\": \"Y\"}, {\"trestbps\": -1.4289604408410381, \"chol\": -0.04845512239644239, \"age\": 47, \"sex\": 1, \"cp\": 3, \"fbs\": 0, \"restecg\": 0, \"thalach\": 152, \"exang\": 0, \"oldpeak\": 0.0, \"slope\": 1, \"ca\": 0.0, \"thal\": 3.0, \"num\": 1, \"presence\": \"Y\"}, {\"trestbps\": 0.4456695510874231, \"chol\": -1.178677239172516, \"age\": 63, \"sex\": 1, \"cp\": 4, \"fbs\": 0, \"restecg\": 2, \"thalach\": 144, \"exang\": 1, \"oldpeak\": 4.0, \"slope\": 1, \"ca\": 2.0, \"thal\": 7.0, \"num\": 2, \"presence\": \"Y\"}, {\"trestbps\": 0.4456695510874231, \"chol\": 1.3643225235736496, \"age\": 64, \"sex\": 0, \"cp\": 3, \"fbs\": 0, \"restecg\": 0, \"thalach\": 133, \"exang\": 0, \"oldpeak\": 0.2, \"slope\": 1, \"ca\": 0.0, \"thal\": 7.0, \"num\": 0, \"presence\": \"N\"}, {\"trestbps\": -0.7259741938678652, \"chol\": -1.7841533731596984, \"age\": 41, \"sex\": 1, \"cp\": 2, \"fbs\": 0, \"restecg\": 0, \"thalach\": 182, \"exang\": 0, \"oldpeak\": 0.0, \"slope\": 1, \"ca\": 0.0, \"thal\": 3.0, \"num\": 0, \"presence\": \"N\"}, {\"trestbps\": 0.6799983000784808, \"chol\": -0.9163042477780703, \"age\": 50, \"sex\": 1, \"cp\": 4, \"fbs\": 0, \"restecg\": 2, \"thalach\": 126, \"exang\": 1, \"oldpeak\": 0.9, \"slope\": 2, \"ca\": 0.0, \"thal\": 7.0, \"num\": 3, \"presence\": \"Y\"}, {\"trestbps\": -0.14015232139022102, \"chol\": 0.47629086039244894, \"age\": 49, \"sex\": 0, \"cp\": 4, \"fbs\": 0, \"restecg\": 0, \"thalach\": 163, \"exang\": 0, \"oldpeak\": 0.0, \"slope\": 1, \"ca\": 0.0, \"thal\": 3.0, \"num\": 0, \"presence\": \"N\"}, {\"trestbps\": 0.4456695510874231, \"chol\": -0.5732011051853337, \"age\": 55, \"sex\": 1, \"cp\": 4, \"fbs\": 0, \"restecg\": 0, \"thalach\": 111, \"exang\": 1, \"oldpeak\": 5.6, \"slope\": 3, \"ca\": 0.0, \"thal\": 7.0, \"num\": 3, \"presence\": \"Y\"}, {\"trestbps\": -0.7259741938678652, \"chol\": 0.7184813139873218, \"age\": 62, \"sex\": 1, \"cp\": 2, \"fbs\": 0, \"restecg\": 2, \"thalach\": 103, \"exang\": 0, \"oldpeak\": 1.4, \"slope\": 2, \"ca\": 1.0, \"thal\": 7.0, \"num\": 3, \"presence\": \"Y\"}, {\"trestbps\": -0.14015232139022102, \"chol\": -0.8355740965797793, \"age\": 29, \"sex\": 1, \"cp\": 2, \"fbs\": 0, \"restecg\": 2, \"thalach\": 202, \"exang\": 0, \"oldpeak\": 0.0, \"slope\": 1, \"ca\": 0.0, \"thal\": 3.0, \"num\": 0, \"presence\": \"N\"}, {\"trestbps\": -1.4289604408410381, \"chol\": -2.107073977952862, \"age\": 44, \"sex\": 0, \"cp\": 3, \"fbs\": 0, \"restecg\": 0, \"thalach\": 175, \"exang\": 0, \"oldpeak\": 0.6, \"slope\": 2, \"ca\": 0.0, \"thal\": 3.0, \"num\": 0, \"presence\": \"N\"}, {\"trestbps\": -0.25731669588574985, \"chol\": -0.5933836429849064, \"age\": 58, \"sex\": 1, \"cp\": 4, \"fbs\": 0, \"restecg\": 2, \"thalach\": 131, \"exang\": 1, \"oldpeak\": 2.2, \"slope\": 2, \"ca\": 3.0, \"thal\": 7.0, \"num\": 1, \"presence\": \"Y\"}, {\"trestbps\": -0.14015232139022102, \"chol\": -0.4924709539870427, \"age\": 56, \"sex\": 1, \"cp\": 2, \"fbs\": 0, \"restecg\": 2, \"thalach\": 163, \"exang\": 0, \"oldpeak\": 0.0, \"slope\": 1, \"ca\": 0.0, \"thal\": 7.0, \"num\": 0, \"presence\": \"N\"}, {\"trestbps\": -0.14015232139022102, \"chol\": 0.7588463895864673, \"age\": 56, \"sex\": 1, \"cp\": 4, \"fbs\": 1, \"restecg\": 2, \"thalach\": 103, \"exang\": 1, \"oldpeak\": 1.6, \"slope\": 3, \"ca\": 0.0, \"thal\": 7.0, \"num\": 2, \"presence\": \"Y\"}, {\"trestbps\": 0.09417642760083665, \"chol\": -0.23009796259259707, \"age\": 61, \"sex\": 1, \"cp\": 1, \"fbs\": 0, \"restecg\": 0, \"thalach\": 145, \"exang\": 0, \"oldpeak\": 2.6, \"slope\": 2, \"ca\": 2.0, \"thal\": 3.0, \"num\": 2, \"presence\": \"Y\"}, {\"trestbps\": -0.19873450863798542, \"chol\": -0.9970343989763613, \"age\": 50, \"sex\": 1, \"cp\": 3, \"fbs\": 0, \"restecg\": 0, \"thalach\": 163, \"exang\": 0, \"oldpeak\": 0.0, \"slope\": 1, \"ca\": 0.0, \"thal\": 3.0, \"num\": 0, \"presence\": \"N\"}, {\"trestbps\": -2.24911106230974, \"chol\": -0.37137572718960626, \"age\": 51, \"sex\": 1, \"cp\": 3, \"fbs\": 0, \"restecg\": 0, \"thalach\": 154, \"exang\": 1, \"oldpeak\": 0.0, \"slope\": 1, \"ca\": 1.0, \"thal\": 7.0, \"num\": 0, \"presence\": \"N\"}, {\"trestbps\": -0.7259741938678652, \"chol\": -1.3603200793686707, \"age\": 60, \"sex\": 0, \"cp\": 3, \"fbs\": 1, \"restecg\": 0, \"thalach\": 96, \"exang\": 0, \"oldpeak\": 0.0, \"slope\": 1, \"ca\": 0.0, \"thal\": 3.0, \"num\": 0, \"presence\": \"N\"}, {\"trestbps\": -1.6047070025843313, \"chol\": -0.9566693233772158, \"age\": 41, \"sex\": 0, \"cp\": 2, \"fbs\": 0, \"restecg\": 0, \"thalach\": 168, \"exang\": 0, \"oldpeak\": 0.0, \"slope\": 1, \"ca\": 1.0, \"thal\": 3.0, \"num\": 0, \"presence\": \"N\"}, {\"trestbps\": 0.09417642760083665, \"chol\": -0.8961217099784976, \"age\": 52, \"sex\": 1, \"cp\": 2, \"fbs\": 0, \"restecg\": 0, \"thalach\": 158, \"exang\": 0, \"oldpeak\": 0.8, \"slope\": 1, \"ca\": 1.0, \"thal\": 3.0, \"num\": 0, \"presence\": \"N\"}, {\"trestbps\": -0.37448107038127865, \"chol\": 0.7386638517868945, \"age\": 35, \"sex\": 1, \"cp\": 4, \"fbs\": 0, \"restecg\": 2, \"thalach\": 156, \"exang\": 1, \"oldpeak\": 0.0, \"slope\": 1, \"ca\": 0.0, \"thal\": 7.0, \"num\": 1, \"presence\": \"Y\"}, {\"trestbps\": 0.6799983000784808, \"chol\": -1.0575820123750794, \"age\": 68, \"sex\": 1, \"cp\": 4, \"fbs\": 1, \"restecg\": 0, \"thalach\": 141, \"exang\": 0, \"oldpeak\": 3.4, \"slope\": 2, \"ca\": 2.0, \"thal\": 7.0, \"num\": 2, \"presence\": \"Y\"}, {\"trestbps\": 1.6173132960427115, \"chol\": -0.3511931893900335, \"age\": 66, \"sex\": 1, \"cp\": 4, \"fbs\": 0, \"restecg\": 2, \"thalach\": 138, \"exang\": 0, \"oldpeak\": 2.3, \"slope\": 1, \"ca\": 0.0, \"thal\": 6.0, \"num\": 0, \"presence\": \"N\"}, {\"trestbps\": -1.8976179388231535, \"chol\": 0.05245756660142132, \"age\": 58, \"sex\": 0, \"cp\": 4, \"fbs\": 0, \"restecg\": 2, \"thalach\": 122, \"exang\": 0, \"oldpeak\": 1.0, \"slope\": 2, \"ca\": 0.0, \"thal\": 3.0, \"num\": 0, \"presence\": \"N\"}, {\"trestbps\": 1.6173132960427115, \"chol\": -0.8961217099784976, \"age\": 54, \"sex\": 0, \"cp\": 3, \"fbs\": 0, \"restecg\": 0, \"thalach\": 163, \"exang\": 0, \"oldpeak\": 0.0, \"slope\": 1, \"ca\": 1.0, \"thal\": 3.0, \"num\": 0, \"presence\": \"N\"}, {\"trestbps\": -0.7259741938678652, \"chol\": 0.35519563359501244, \"age\": 44, \"sex\": 1, \"cp\": 2, \"fbs\": 0, \"restecg\": 0, \"thalach\": 173, \"exang\": 0, \"oldpeak\": 0.0, \"slope\": 1, \"ca\": 0.0, \"thal\": 7.0, \"num\": 0, \"presence\": \"N\"}, {\"trestbps\": -1.1946316918499804, \"chol\": -1.72360575976098, \"age\": 45, \"sex\": 0, \"cp\": 2, \"fbs\": 0, \"restecg\": 0, \"thalach\": 138, \"exang\": 0, \"oldpeak\": 0.0, \"slope\": 2, \"ca\": 0.0, \"thal\": 3.0, \"num\": 0, \"presence\": \"N\"}, {\"trestbps\": 1.8516420450337692, \"chol\": -1.400685154967816, \"age\": 59, \"sex\": 1, \"cp\": 4, \"fbs\": 1, \"restecg\": 2, \"thalach\": 90, \"exang\": 0, \"oldpeak\": 1.0, \"slope\": 2, \"ca\": 2.0, \"thal\": 6.0, \"num\": 3, \"presence\": \"Y\"}, {\"trestbps\": -0.14015232139022102, \"chol\": -1.3199550037695251, \"age\": 42, \"sex\": 1, \"cp\": 3, \"fbs\": 0, \"restecg\": 0, \"thalach\": 150, \"exang\": 0, \"oldpeak\": 0.0, \"slope\": 1, \"ca\": 0.0, \"thal\": 3.0, \"num\": 0, \"presence\": \"N\"}, {\"trestbps\": -0.4330632576290431, \"chol\": 1.1826796833774949, \"age\": 77, \"sex\": 1, \"cp\": 4, \"fbs\": 0, \"restecg\": 2, \"thalach\": 162, \"exang\": 1, \"oldpeak\": 0.0, \"slope\": 1, \"ca\": 3.0, \"thal\": 3.0, \"num\": 4, \"presence\": \"Y\"}, {\"trestbps\": 1.6173132960427115, \"chol\": 0.012092491002275836, \"age\": 66, \"sex\": 1, \"cp\": 2, \"fbs\": 0, \"restecg\": 0, \"thalach\": 120, \"exang\": 1, \"oldpeak\": 0.0, \"slope\": 2, \"ca\": 3.0, \"thal\": 6.0, \"num\": 2, \"presence\": \"Y\"}, {\"trestbps\": -0.843138568363394, \"chol\": -1.9456136755562803, \"age\": 49, \"sex\": 1, \"cp\": 3, \"fbs\": 0, \"restecg\": 2, \"thalach\": 126, \"exang\": 0, \"oldpeak\": 0.8, \"slope\": 1, \"ca\": 3.0, \"thal\": 3.0, \"num\": 1, \"presence\": \"Y\"}, {\"trestbps\": -1.0188851301066872, \"chol\": 1.1624971455779223, \"age\": 43, \"sex\": 1, \"cp\": 4, \"fbs\": 0, \"restecg\": 0, \"thalach\": 181, \"exang\": 0, \"oldpeak\": 1.2, \"slope\": 2, \"ca\": 0.0, \"thal\": 3.0, \"num\": 0, \"presence\": \"N\"}, {\"trestbps\": -0.14015232139022102, \"chol\": 0.1735527933988578, \"age\": 63, \"sex\": 1, \"cp\": 4, \"fbs\": 0, \"restecg\": 2, \"thalach\": 147, \"exang\": 0, \"oldpeak\": 1.4, \"slope\": 2, \"ca\": 1.0, \"thal\": 7.0, \"num\": 2, \"presence\": \"Y\"}, {\"trestbps\": 0.4456695510874231, \"chol\": 1.2634098345757858, \"age\": 51, \"sex\": 0, \"cp\": 3, \"fbs\": 0, \"restecg\": 2, \"thalach\": 142, \"exang\": 0, \"oldpeak\": 1.5, \"slope\": 1, \"ca\": 1.0, \"thal\": 3.0, \"num\": 0, \"presence\": \"N\"}, {\"trestbps\": -0.4330632576290431, \"chol\": 0.5570210115907399, \"age\": 54, \"sex\": 1, \"cp\": 3, \"fbs\": 0, \"restecg\": 2, \"thalach\": 152, \"exang\": 0, \"oldpeak\": 0.5, \"slope\": 3, \"ca\": 1.0, \"thal\": 3.0, \"num\": 0, \"presence\": \"N\"}, {\"trestbps\": 0.4456695510874231, \"chol\": 2.9991080853390417, \"age\": 62, \"sex\": 0, \"cp\": 4, \"fbs\": 0, \"restecg\": 2, \"thalach\": 157, \"exang\": 0, \"oldpeak\": 1.2, \"slope\": 2, \"ca\": 0.0, \"thal\": 3.0, \"num\": 0, \"presence\": \"N\"}, {\"trestbps\": -0.7259741938678652, \"chol\": -0.7346614075819157, \"age\": 42, \"sex\": 0, \"cp\": 3, \"fbs\": 0, \"restecg\": 0, \"thalach\": 173, \"exang\": 0, \"oldpeak\": 0.0, \"slope\": 2, \"ca\": 0.0, \"thal\": 3.0, \"num\": 0, \"presence\": \"N\"}, {\"trestbps\": -0.14015232139022102, \"chol\": 0.21391786899800327, \"age\": 48, \"sex\": 1, \"cp\": 4, \"fbs\": 1, \"restecg\": 2, \"thalach\": 150, \"exang\": 1, \"oldpeak\": 0.0, \"slope\": 1, \"ca\": 2.0, \"thal\": 7.0, \"num\": 3, \"presence\": \"Y\"}, {\"trestbps\": 0.3285051765918943, \"chol\": -0.5126534917866155, \"age\": 39, \"sex\": 0, \"cp\": 3, \"fbs\": 0, \"restecg\": 0, \"thalach\": 152, \"exang\": 0, \"oldpeak\": 0.0, \"slope\": 2, \"ca\": 0.0, \"thal\": 3.0, \"num\": 0, \"presence\": \"N\"}, {\"trestbps\": 0.15275861484860107, \"chol\": 1.1826796833774949, \"age\": 54, \"sex\": 0, \"cp\": 3, \"fbs\": 1, \"restecg\": 0, \"thalach\": 170, \"exang\": 0, \"oldpeak\": 0.0, \"slope\": 1, \"ca\": 0.0, \"thal\": 3.0, \"num\": 0, \"presence\": \"N\"}, {\"trestbps\": -0.843138568363394, \"chol\": -0.5328360295861883, \"age\": 39, \"sex\": 1, \"cp\": 4, \"fbs\": 0, \"restecg\": 0, \"thalach\": 140, \"exang\": 0, \"oldpeak\": 1.2, \"slope\": 2, \"ca\": 0.0, \"thal\": 7.0, \"num\": 3, \"presence\": \"Y\"}, {\"trestbps\": -0.4330632576290431, \"chol\": 1.1019495321792039, \"age\": 58, \"sex\": 1, \"cp\": 4, \"fbs\": 0, \"restecg\": 2, \"thalach\": 171, \"exang\": 0, \"oldpeak\": 0.0, \"slope\": 1, \"ca\": 2.0, \"thal\": 7.0, \"num\": 1, \"presence\": \"Y\"}, {\"trestbps\": -0.25731669588574985, \"chol\": -0.8153915587802066, \"age\": 52, \"sex\": 1, \"cp\": 2, \"fbs\": 1, \"restecg\": 0, \"thalach\": 184, \"exang\": 0, \"oldpeak\": 0.0, \"slope\": 1, \"ca\": 0.0, \"thal\": 3.0, \"num\": 0, \"presence\": \"N\"}, {\"trestbps\": -0.14015232139022102, \"chol\": 0.21391786899800327, \"age\": 51, \"sex\": 0, \"cp\": 3, \"fbs\": 0, \"restecg\": 2, \"thalach\": 149, \"exang\": 0, \"oldpeak\": 0.5, \"slope\": 1, \"ca\": 0.0, \"thal\": 3.0, \"num\": 0, \"presence\": \"N\"}, {\"trestbps\": -0.022987946894692177, \"chol\": -1.2392248525712342, \"age\": 56, \"sex\": 1, \"cp\": 4, \"fbs\": 0, \"restecg\": 2, \"thalach\": 105, \"exang\": 1, \"oldpeak\": 2.1, \"slope\": 2, \"ca\": 1.0, \"thal\": 6.0, \"num\": 1, \"presence\": \"Y\"}, {\"trestbps\": -0.14015232139022102, \"chol\": -2.3088993559485895, \"age\": 57, \"sex\": 1, \"cp\": 4, \"fbs\": 0, \"restecg\": 0, \"thalach\": 115, \"exang\": 1, \"oldpeak\": 1.2, \"slope\": 2, \"ca\": 1.0, \"thal\": 7.0, \"num\": 3, \"presence\": \"Y\"}, {\"trestbps\": -0.14015232139022102, \"chol\": 1.7074256661663862, \"age\": 61, \"sex\": 0, \"cp\": 4, \"fbs\": 0, \"restecg\": 2, \"thalach\": 169, \"exang\": 0, \"oldpeak\": 0.0, \"slope\": 1, \"ca\": 0.0, \"thal\": 3.0, \"num\": 1, \"presence\": \"Y\"}, {\"trestbps\": -1.4289604408410381, \"chol\": 0.47629086039244894, \"age\": 63, \"sex\": 0, \"cp\": 4, \"fbs\": 0, \"restecg\": 0, \"thalach\": 169, \"exang\": 1, \"oldpeak\": 1.8, \"slope\": 2, \"ca\": 2.0, \"thal\": 3.0, \"num\": 1, \"presence\": \"Y\"}, {\"trestbps\": -1.3117960663455093, \"chol\": 0.1735527933988578, \"age\": 50, \"sex\": 0, \"cp\": 4, \"fbs\": 0, \"restecg\": 2, \"thalach\": 159, \"exang\": 0, \"oldpeak\": 0.0, \"slope\": 1, \"ca\": 0.0, \"thal\": 3.0, \"num\": 0, \"presence\": \"N\"}, {\"trestbps\": 0.7385804873262453, \"chol\": 0.7386638517868945, \"age\": 60, \"sex\": 1, \"cp\": 4, \"fbs\": 0, \"restecg\": 2, \"thalach\": 142, \"exang\": 1, \"oldpeak\": 2.8, \"slope\": 2, \"ca\": 2.0, \"thal\": 7.0, \"num\": 2, \"presence\": \"Y\"}, {\"trestbps\": -0.14015232139022102, \"chol\": 1.2028622211770676, \"age\": 51, \"sex\": 0, \"cp\": 4, \"fbs\": 0, \"restecg\": 0, \"thalach\": 142, \"exang\": 1, \"oldpeak\": 1.2, \"slope\": 2, \"ca\": 0.0, \"thal\": 7.0, \"num\": 2, \"presence\": \"Y\"}, {\"trestbps\": 0.15275861484860107, \"chol\": 0.13318771779971228, \"age\": 63, \"sex\": 0, \"cp\": 3, \"fbs\": 0, \"restecg\": 2, \"thalach\": 172, \"exang\": 0, \"oldpeak\": 0.0, \"slope\": 1, \"ca\": 0.0, \"thal\": 3.0, \"num\": 0, \"presence\": \"N\"}, {\"trestbps\": 0.09417642760083665, \"chol\": -0.8355740965797793, \"age\": 59, \"sex\": 1, \"cp\": 1, \"fbs\": 0, \"restecg\": 0, \"thalach\": 162, \"exang\": 0, \"oldpeak\": 0.8, \"slope\": 1, \"ca\": 2.0, \"thal\": 3.0, \"num\": 1, \"presence\": \"Y\"}, {\"trestbps\": 0.2113408020963655, \"chol\": 1.4854177503710861, \"age\": 58, \"sex\": 0, \"cp\": 2, \"fbs\": 1, \"restecg\": 2, \"thalach\": 152, \"exang\": 0, \"oldpeak\": 0.0, \"slope\": 1, \"ca\": 2.0, \"thal\": 3.0, \"num\": 3, \"presence\": \"Y\"}, {\"trestbps\": -1.3117960663455093, \"chol\": 1.80833835516425, \"age\": 57, \"sex\": 1, \"cp\": 4, \"fbs\": 0, \"restecg\": 0, \"thalach\": 143, \"exang\": 1, \"oldpeak\": 3.0, \"slope\": 2, \"ca\": 1.0, \"thal\": 7.0, \"num\": 2, \"presence\": \"Y\"}, {\"trestbps\": -0.25731669588574985, \"chol\": 0.35519563359501244, \"age\": 64, \"sex\": 1, \"cp\": 4, \"fbs\": 0, \"restecg\": 0, \"thalach\": 105, \"exang\": 1, \"oldpeak\": 0.2, \"slope\": 2, \"ca\": 1.0, \"thal\": 7.0, \"num\": 0, \"presence\": \"N\"}, {\"trestbps\": 0.4456695510874231, \"chol\": 0.9606717675821947, \"age\": 60, \"sex\": 1, \"cp\": 4, \"fbs\": 0, \"restecg\": 2, \"thalach\": 170, \"exang\": 0, \"oldpeak\": 1.2, \"slope\": 2, \"ca\": 2.0, \"thal\": 7.0, \"num\": 2, \"presence\": \"Y\"}, {\"trestbps\": -0.4916454448768075, \"chol\": 0.19373533119843053, \"age\": 48, \"sex\": 1, \"cp\": 3, \"fbs\": 1, \"restecg\": 0, \"thalach\": 175, \"exang\": 0, \"oldpeak\": 0.0, \"slope\": 1, \"ca\": 2.0, \"thal\": 3.0, \"num\": 0, \"presence\": \"N\"}, {\"trestbps\": 0.7385804873262453, \"chol\": -0.2502805003921698, \"age\": 63, \"sex\": 1, \"cp\": 1, \"fbs\": 1, \"restecg\": 2, \"thalach\": 150, \"exang\": 0, \"oldpeak\": 2.3, \"slope\": 3, \"ca\": 0.0, \"thal\": 6.0, \"num\": 0, \"presence\": \"N\"}, {\"trestbps\": -1.0774673173544516, \"chol\": 1.4652352125715133, \"age\": 58, \"sex\": 1, \"cp\": 4, \"fbs\": 0, \"restecg\": 1, \"thalach\": 140, \"exang\": 0, \"oldpeak\": 4.4, \"slope\": 3, \"ca\": 3.0, \"thal\": 6.0, \"num\": 4, \"presence\": \"Y\"}, {\"trestbps\": -1.1946316918499804, \"chol\": -0.31082811379088804, \"age\": 58, \"sex\": 1, \"cp\": 3, \"fbs\": 0, \"restecg\": 2, \"thalach\": 165, \"exang\": 0, \"oldpeak\": 2.5, \"slope\": 2, \"ca\": 1.0, \"thal\": 7.0, \"num\": 4, \"presence\": \"Y\"}, {\"trestbps\": -0.7259741938678652, \"chol\": 0.012092491002275836, \"age\": 64, \"sex\": 1, \"cp\": 4, \"fbs\": 0, \"restecg\": 2, \"thalach\": 96, \"exang\": 1, \"oldpeak\": 2.2, \"slope\": 3, \"ca\": 1.0, \"thal\": 3.0, \"num\": 3, \"presence\": \"Y\"}, {\"trestbps\": 1.0314914235650674, \"chol\": -0.41174080278875175, \"age\": 65, \"sex\": 0, \"cp\": 4, \"fbs\": 0, \"restecg\": 2, \"thalach\": 114, \"exang\": 0, \"oldpeak\": 1.0, \"slope\": 2, \"ca\": 3.0, \"thal\": 7.0, \"num\": 4, \"presence\": \"Y\"}, {\"trestbps\": -0.4330632576290431, \"chol\": -0.6539312563836247, \"age\": 51, \"sex\": 1, \"cp\": 1, \"fbs\": 0, \"restecg\": 2, \"thalach\": 125, \"exang\": 1, \"oldpeak\": 1.4, \"slope\": 1, \"ca\": 1.0, \"thal\": 3.0, \"num\": 0, \"presence\": \"N\"}, {\"trestbps\": 1.0314914235650674, \"chol\": -1.562145457364398, \"age\": 57, \"sex\": 1, \"cp\": 3, \"fbs\": 0, \"restecg\": 0, \"thalach\": 174, \"exang\": 0, \"oldpeak\": 1.6, \"slope\": 1, \"ca\": 0.0, \"thal\": 3.0, \"num\": 0, \"presence\": \"N\"}, {\"trestbps\": -1.3117960663455093, \"chol\": -1.420867692767389, \"age\": 51, \"sex\": 1, \"cp\": 3, \"fbs\": 0, \"restecg\": 0, \"thalach\": 123, \"exang\": 0, \"oldpeak\": 0.6, \"slope\": 1, \"ca\": 0.0, \"thal\": 3.0, \"num\": 0, \"presence\": \"N\"}, {\"trestbps\": -1.1946316918499804, \"chol\": -0.8355740965797793, \"age\": 47, \"sex\": 1, \"cp\": 4, \"fbs\": 0, \"restecg\": 0, \"thalach\": 143, \"exang\": 0, \"oldpeak\": 0.1, \"slope\": 1, \"ca\": 0.0, \"thal\": 3.0, \"num\": 0, \"presence\": \"N\"}, {\"trestbps\": 1.3829845470516537, \"chol\": -0.008090046797296907, \"age\": 70, \"sex\": 1, \"cp\": 2, \"fbs\": 0, \"restecg\": 2, \"thalach\": 143, \"exang\": 0, \"oldpeak\": 0.0, \"slope\": 1, \"ca\": 0.0, \"thal\": 3.0, \"num\": 0, \"presence\": \"N\"}, {\"trestbps\": -1.4289604408410381, \"chol\": 1.2835923723753586, \"age\": 54, \"sex\": 1, \"cp\": 2, \"fbs\": 0, \"restecg\": 0, \"thalach\": 156, \"exang\": 0, \"oldpeak\": 0.0, \"slope\": 1, \"ca\": 0.0, \"thal\": 7.0, \"num\": 0, \"presence\": \"N\"}, {\"trestbps\": -0.6088098193723364, \"chol\": -0.6539312563836247, \"age\": 43, \"sex\": 0, \"cp\": 3, \"fbs\": 0, \"restecg\": 0, \"thalach\": 165, \"exang\": 0, \"oldpeak\": 0.2, \"slope\": 2, \"ca\": 0.0, \"thal\": 3.0, \"num\": 0, \"presence\": \"N\"}, {\"trestbps\": -1.3117960663455093, \"chol\": -0.3310106515904608, \"age\": 48, \"sex\": 1, \"cp\": 2, \"fbs\": 0, \"restecg\": 0, \"thalach\": 168, \"exang\": 0, \"oldpeak\": 1.0, \"slope\": 3, \"ca\": 0.0, \"thal\": 7.0, \"num\": 1, \"presence\": \"Y\"}, {\"trestbps\": 0.7971626745740097, \"chol\": 0.6579337005886036, \"age\": 66, \"sex\": 0, \"cp\": 3, \"fbs\": 0, \"restecg\": 2, \"thalach\": 152, \"exang\": 0, \"oldpeak\": 0.0, \"slope\": 2, \"ca\": 1.0, \"thal\": 3.0, \"num\": 0, \"presence\": \"N\"}, {\"trestbps\": 1.6173132960427115, \"chol\": -0.23009796259259707, \"age\": 69, \"sex\": 1, \"cp\": 1, \"fbs\": 1, \"restecg\": 2, \"thalach\": 131, \"exang\": 0, \"oldpeak\": 0.1, \"slope\": 2, \"ca\": 1.0, \"thal\": 3.0, \"num\": 0, \"presence\": \"N\"}, {\"trestbps\": -0.7259741938678652, \"chol\": -0.6135661807844792, \"age\": 37, \"sex\": 0, \"cp\": 3, \"fbs\": 0, \"restecg\": 0, \"thalach\": 170, \"exang\": 0, \"oldpeak\": 0.0, \"slope\": 1, \"ca\": 0.0, \"thal\": 3.0, \"num\": 0, \"presence\": \"N\"}, {\"trestbps\": 0.3285051765918943, \"chol\": -1.259407390370807, \"age\": 35, \"sex\": 0, \"cp\": 4, \"fbs\": 0, \"restecg\": 0, \"thalach\": 182, \"exang\": 0, \"oldpeak\": 1.4, \"slope\": 1, \"ca\": 0.0, \"thal\": 3.0, \"num\": 0, \"presence\": \"N\"}, {\"trestbps\": -1.1946316918499804, \"chol\": -1.9456136755562803, \"age\": 71, \"sex\": 0, \"cp\": 4, \"fbs\": 0, \"restecg\": 0, \"thalach\": 125, \"exang\": 0, \"oldpeak\": 1.6, \"slope\": 2, \"ca\": 0.0, \"thal\": 3.0, \"num\": 0, \"presence\": \"N\"}, {\"trestbps\": -1.3117960663455093, \"chol\": -0.9768518611767886, \"age\": 44, \"sex\": 1, \"cp\": 4, \"fbs\": 0, \"restecg\": 2, \"thalach\": 177, \"exang\": 0, \"oldpeak\": 0.0, \"slope\": 1, \"ca\": 1.0, \"thal\": 3.0, \"num\": 1, \"presence\": \"Y\"}, {\"trestbps\": -0.4330632576290431, \"chol\": 0.07264010440099407, \"age\": 56, \"sex\": 1, \"cp\": 4, \"fbs\": 1, \"restecg\": 2, \"thalach\": 144, \"exang\": 1, \"oldpeak\": 1.2, \"slope\": 2, \"ca\": 1.0, \"thal\": 3.0, \"num\": 1, \"presence\": \"Y\"}, {\"trestbps\": 0.4456695510874231, \"chol\": 1.0615844565800585, \"age\": 51, \"sex\": 1, \"cp\": 4, \"fbs\": 0, \"restecg\": 0, \"thalach\": 122, \"exang\": 1, \"oldpeak\": 4.2, \"slope\": 2, \"ca\": 3.0, \"thal\": 7.0, \"num\": 3, \"presence\": \"Y\"}, {\"trestbps\": 1.9102242322815335, \"chol\": 0.8799416163839038, \"age\": 57, \"sex\": 1, \"cp\": 4, \"fbs\": 1, \"restecg\": 2, \"thalach\": 124, \"exang\": 0, \"oldpeak\": 1.0, \"slope\": 2, \"ca\": 3.0, \"thal\": 7.0, \"num\": 4, \"presence\": \"Y\"}, {\"trestbps\": -0.022987946894692177, \"chol\": 2.1716240355565595, \"age\": 55, \"sex\": 1, \"cp\": 4, \"fbs\": 0, \"restecg\": 0, \"thalach\": 132, \"exang\": 1, \"oldpeak\": 1.2, \"slope\": 2, \"ca\": 1.0, \"thal\": 7.0, \"num\": 3, \"presence\": \"Y\"}, {\"trestbps\": 1.0314914235650674, \"chol\": -0.391558264989179, \"age\": 66, \"sex\": 0, \"cp\": 1, \"fbs\": 0, \"restecg\": 0, \"thalach\": 114, \"exang\": 0, \"oldpeak\": 2.6, \"slope\": 3, \"ca\": 0.0, \"thal\": 3.0, \"num\": 0, \"presence\": \"N\"}, {\"trestbps\": -0.25731669588574985, \"chol\": -0.7548439453814884, \"age\": 62, \"sex\": 1, \"cp\": 2, \"fbs\": 1, \"restecg\": 2, \"thalach\": 140, \"exang\": 0, \"oldpeak\": 0.0, \"slope\": 1, \"ca\": 0.0, \"thal\": 3.0, \"num\": 0, \"presence\": \"N\"}, {\"trestbps\": 2.2031351685203555, \"chol\": 0.859759078584331, \"age\": 59, \"sex\": 1, \"cp\": 1, \"fbs\": 0, \"restecg\": 2, \"thalach\": 159, \"exang\": 0, \"oldpeak\": 0.2, \"slope\": 2, \"ca\": 0.0, \"thal\": 7.0, \"num\": 1, \"presence\": \"Y\"}, {\"trestbps\": 2.7889570409979996, \"chol\": 1.6065129771685225, \"age\": 64, \"sex\": 0, \"cp\": 4, \"fbs\": 0, \"restecg\": 0, \"thalach\": 154, \"exang\": 1, \"oldpeak\": 0.0, \"slope\": 1, \"ca\": 0.0, \"thal\": 3.0, \"num\": 0, \"presence\": \"N\"}, {\"trestbps\": -1.8976179388231535, \"chol\": -0.47228841618747, \"age\": 51, \"sex\": 1, \"cp\": 3, \"fbs\": 0, \"restecg\": 0, \"thalach\": 143, \"exang\": 1, \"oldpeak\": 1.2, \"slope\": 2, \"ca\": 0.0, \"thal\": 3.0, \"num\": 0, \"presence\": \"N\"}, {\"trestbps\": -0.7259741938678652, \"chol\": 1.0010368431813401, \"age\": 51, \"sex\": 0, \"cp\": 3, \"fbs\": 0, \"restecg\": 2, \"thalach\": 157, \"exang\": 0, \"oldpeak\": 0.6, \"slope\": 1, \"ca\": 0.0, \"thal\": 3.0, \"num\": 0, \"presence\": \"N\"}, {\"trestbps\": 0.3285051765918943, \"chol\": -0.23009796259259707, \"age\": 53, \"sex\": 0, \"cp\": 4, \"fbs\": 0, \"restecg\": 2, \"thalach\": 160, \"exang\": 0, \"oldpeak\": 0.0, \"slope\": 1, \"ca\": 0.0, \"thal\": 3.0, \"num\": 0, \"presence\": \"N\"}, {\"trestbps\": 0.4456695510874231, \"chol\": -0.8557566343793521, \"age\": 53, \"sex\": 1, \"cp\": 4, \"fbs\": 1, \"restecg\": 2, \"thalach\": 155, \"exang\": 1, \"oldpeak\": 3.1, \"slope\": 3, \"ca\": 0.0, \"thal\": 7.0, \"num\": 1, \"presence\": \"Y\"}, {\"trestbps\": 0.4456695510874231, \"chol\": 0.45610832259287615, \"age\": 62, \"sex\": 0, \"cp\": 4, \"fbs\": 0, \"restecg\": 2, \"thalach\": 160, \"exang\": 0, \"oldpeak\": 3.6, \"slope\": 3, \"ca\": 2.0, \"thal\": 3.0, \"num\": 3, \"presence\": \"Y\"}, {\"trestbps\": -0.14015232139022102, \"chol\": 1.1624971455779223, \"age\": 64, \"sex\": 0, \"cp\": 4, \"fbs\": 0, \"restecg\": 0, \"thalach\": 122, \"exang\": 0, \"oldpeak\": 2.0, \"slope\": 2, \"ca\": 2.0, \"thal\": 3.0, \"num\": 0, \"presence\": \"N\"}, {\"trestbps\": -0.5502276321245719, \"chol\": 0.7386638517868945, \"age\": 53, \"sex\": 1, \"cp\": 4, \"fbs\": 0, \"restecg\": 0, \"thalach\": 95, \"exang\": 1, \"oldpeak\": 2.0, \"slope\": 2, \"ca\": 2.0, \"thal\": 7.0, \"num\": 3, \"presence\": \"Y\"}, {\"trestbps\": -0.843138568363394, \"chol\": -0.7144788697823429, \"age\": 34, \"sex\": 0, \"cp\": 2, \"fbs\": 0, \"restecg\": 0, \"thalach\": 192, \"exang\": 0, \"oldpeak\": 0.7, \"slope\": 1, \"ca\": 0.0, \"thal\": 3.0, \"num\": 0, \"presence\": \"N\"}, {\"trestbps\": -0.14015232139022102, \"chol\": -0.1897328869934516, \"age\": 57, \"sex\": 0, \"cp\": 2, \"fbs\": 0, \"restecg\": 2, \"thalach\": 174, \"exang\": 0, \"oldpeak\": 0.0, \"slope\": 2, \"ca\": 1.0, \"thal\": 3.0, \"num\": 1, \"presence\": \"Y\"}, {\"trestbps\": 0.7971626745740097, \"chol\": -0.5530185673857609, \"age\": 58, \"sex\": 1, \"cp\": 4, \"fbs\": 0, \"restecg\": 0, \"thalach\": 105, \"exang\": 0, \"oldpeak\": 2.0, \"slope\": 2, \"ca\": 1.0, \"thal\": 7.0, \"num\": 1, \"presence\": \"Y\"}, {\"trestbps\": -1.1946316918499804, \"chol\": 0.45610832259287615, \"age\": 41, \"sex\": 0, \"cp\": 3, \"fbs\": 0, \"restecg\": 2, \"thalach\": 172, \"exang\": 1, \"oldpeak\": 0.0, \"slope\": 1, \"ca\": 0.0, \"thal\": 3.0, \"num\": 0, \"presence\": \"N\"}, {\"trestbps\": 1.148655798060596, \"chol\": 1.0615844565800585, \"age\": 52, \"sex\": 1, \"cp\": 1, \"fbs\": 1, \"restecg\": 0, \"thalach\": 178, \"exang\": 0, \"oldpeak\": 1.2, \"slope\": 2, \"ca\": 0.0, \"thal\": 7.0, \"num\": 0, \"presence\": \"N\"}, {\"trestbps\": 0.4456695510874231, \"chol\": -0.4924709539870427, \"age\": 59, \"sex\": 1, \"cp\": 2, \"fbs\": 0, \"restecg\": 0, \"thalach\": 164, \"exang\": 1, \"oldpeak\": 0.0, \"slope\": 1, \"ca\": 0.0, \"thal\": 3.0, \"num\": 0, \"presence\": \"N\"}, {\"trestbps\": 1.0314914235650674, \"chol\": -0.27046303819174256, \"age\": 54, \"sex\": 1, \"cp\": 3, \"fbs\": 0, \"restecg\": 2, \"thalach\": 165, \"exang\": 0, \"oldpeak\": 1.6, \"slope\": 1, \"ca\": 0.0, \"thal\": 7.0, \"num\": 0, \"presence\": \"N\"}, {\"trestbps\": -0.14015232139022102, \"chol\": 0.09282264220056681, \"age\": 37, \"sex\": 1, \"cp\": 3, \"fbs\": 0, \"restecg\": 0, \"thalach\": 187, \"exang\": 0, \"oldpeak\": 3.5, \"slope\": 3, \"ca\": 0.0, \"thal\": 3.0, \"num\": 0, \"presence\": \"N\"}, {\"trestbps\": 0.3285051765918943, \"chol\": 0.23410040679757602, \"age\": 47, \"sex\": 1, \"cp\": 3, \"fbs\": 0, \"restecg\": 2, \"thalach\": 156, \"exang\": 0, \"oldpeak\": 0.0, \"slope\": 1, \"ca\": 0.0, \"thal\": 3.0, \"num\": 0, \"presence\": \"N\"}, {\"trestbps\": -0.14015232139022102, \"chol\": 0.012092491002275836, \"age\": 53, \"sex\": 1, \"cp\": 3, \"fbs\": 1, \"restecg\": 2, \"thalach\": 173, \"exang\": 0, \"oldpeak\": 0.0, \"slope\": 1, \"ca\": 3.0, \"thal\": 3.0, \"num\": 0, \"presence\": \"N\"}, {\"trestbps\": -2.24911106230974, \"chol\": -0.9364867855776431, \"age\": 39, \"sex\": 0, \"cp\": 3, \"fbs\": 0, \"restecg\": 0, \"thalach\": 179, \"exang\": 0, \"oldpeak\": 0.0, \"slope\": 1, \"ca\": 0.0, \"thal\": 3.0, \"num\": 0, \"presence\": \"N\"}, {\"trestbps\": -0.7259741938678652, \"chol\": 1.0010368431813401, \"age\": 42, \"sex\": 1, \"cp\": 2, \"fbs\": 0, \"restecg\": 0, \"thalach\": 162, \"exang\": 0, \"oldpeak\": 0.0, \"slope\": 1, \"ca\": 0.0, \"thal\": 3.0, \"num\": 0, \"presence\": \"N\"}, {\"trestbps\": 0.4456695510874231, \"chol\": 3.463306454729215, \"age\": 65, \"sex\": 0, \"cp\": 3, \"fbs\": 1, \"restecg\": 2, \"thalach\": 157, \"exang\": 0, \"oldpeak\": 0.8, \"slope\": 1, \"ca\": 1.0, \"thal\": 3.0, \"num\": 0, \"presence\": \"N\"}, {\"trestbps\": -0.14015232139022102, \"chol\": 1.7074256661663862, \"age\": 63, \"sex\": 1, \"cp\": 4, \"fbs\": 1, \"restecg\": 2, \"thalach\": 132, \"exang\": 1, \"oldpeak\": 1.8, \"slope\": 1, \"ca\": 3.0, \"thal\": 7.0, \"num\": 3, \"presence\": \"Y\"}, {\"trestbps\": 0.7385804873262453, \"chol\": -0.6741137941831974, \"age\": 64, \"sex\": 1, \"cp\": 4, \"fbs\": 0, \"restecg\": 2, \"thalach\": 132, \"exang\": 0, \"oldpeak\": 2.0, \"slope\": 2, \"ca\": 2.0, \"thal\": 6.0, \"num\": 4, \"presence\": \"Y\"}, {\"trestbps\": -0.7259741938678652, \"chol\": -1.3805026171682435, \"age\": 65, \"sex\": 1, \"cp\": 4, \"fbs\": 0, \"restecg\": 0, \"thalach\": 140, \"exang\": 0, \"oldpeak\": 0.4, \"slope\": 1, \"ca\": 0.0, \"thal\": 7.0, \"num\": 0, \"presence\": \"N\"}, {\"trestbps\": 1.6173132960427115, \"chol\": 0.8193940029851855, \"age\": 67, \"sex\": 1, \"cp\": 4, \"fbs\": 0, \"restecg\": 2, \"thalach\": 108, \"exang\": 1, \"oldpeak\": 1.5, \"slope\": 2, \"ca\": 3.0, \"thal\": 3.0, \"num\": 2, \"presence\": \"Y\"}, {\"trestbps\": -0.14015232139022102, \"chol\": -0.6337487185840519, \"age\": 41, \"sex\": 1, \"cp\": 3, \"fbs\": 0, \"restecg\": 2, \"thalach\": 168, \"exang\": 0, \"oldpeak\": 2.0, \"slope\": 2, \"ca\": 0.0, \"thal\": 3.0, \"num\": 0, \"presence\": \"N\"}, {\"trestbps\": -0.14015232139022102, \"chol\": 0.5973860871898854, \"age\": 48, \"sex\": 0, \"cp\": 3, \"fbs\": 0, \"restecg\": 0, \"thalach\": 139, \"exang\": 0, \"oldpeak\": 0.2, \"slope\": 1, \"ca\": 0.0, \"thal\": 3.0, \"num\": 0, \"presence\": \"N\"}, {\"trestbps\": -0.14015232139022102, \"chol\": 0.21391786899800327, \"age\": 56, \"sex\": 1, \"cp\": 3, \"fbs\": 1, \"restecg\": 2, \"thalach\": 142, \"exang\": 1, \"oldpeak\": 0.6, \"slope\": 2, \"ca\": 1.0, \"thal\": 6.0, \"num\": 2, \"presence\": \"Y\"}, {\"trestbps\": -0.14015232139022102, \"chol\": -0.9768518611767886, \"age\": 53, \"sex\": 1, \"cp\": 3, \"fbs\": 1, \"restecg\": 2, \"thalach\": 152, \"exang\": 0, \"oldpeak\": 1.2, \"slope\": 3, \"ca\": 0.0, \"thal\": 3.0, \"num\": 0, \"presence\": \"N\"}, {\"trestbps\": 0.4456695510874231, \"chol\": -0.2502805003921698, \"age\": 50, \"sex\": 1, \"cp\": 3, \"fbs\": 0, \"restecg\": 0, \"thalach\": 163, \"exang\": 0, \"oldpeak\": 0.6, \"slope\": 2, \"ca\": 1.0, \"thal\": 7.0, \"num\": 1, \"presence\": \"Y\"}, {\"trestbps\": -0.7259741938678652, \"chol\": -1.0575820123750794, \"age\": 56, \"sex\": 1, \"cp\": 1, \"fbs\": 0, \"restecg\": 2, \"thalach\": 162, \"exang\": 0, \"oldpeak\": 1.9, \"slope\": 2, \"ca\": 0.0, \"thal\": 7.0, \"num\": 0, \"presence\": \"N\"}, {\"trestbps\": -0.4916454448768075, \"chol\": 0.5772035493903126, \"age\": 48, \"sex\": 1, \"cp\": 4, \"fbs\": 0, \"restecg\": 2, \"thalach\": 166, \"exang\": 0, \"oldpeak\": 0.5, \"slope\": 2, \"ca\": 0.0, \"thal\": 7.0, \"num\": 3, \"presence\": \"Y\"}, {\"trestbps\": -0.7259741938678652, \"chol\": -0.5328360295861883, \"age\": 50, \"sex\": 0, \"cp\": 3, \"fbs\": 0, \"restecg\": 0, \"thalach\": 158, \"exang\": 0, \"oldpeak\": 1.6, \"slope\": 2, \"ca\": 0.0, \"thal\": 3.0, \"num\": 0, \"presence\": \"N\"}, {\"trestbps\": 0.4456695510874231, \"chol\": -1.017216936775934, \"age\": 63, \"sex\": 0, \"cp\": 2, \"fbs\": 0, \"restecg\": 0, \"thalach\": 179, \"exang\": 0, \"oldpeak\": 0.0, \"slope\": 1, \"ca\": 2.0, \"thal\": 3.0, \"num\": 0, \"presence\": \"N\"}, {\"trestbps\": -0.25731669588574985, \"chol\": 1.1624971455779223, \"age\": 57, \"sex\": 0, \"cp\": 4, \"fbs\": 0, \"restecg\": 2, \"thalach\": 159, \"exang\": 0, \"oldpeak\": 0.0, \"slope\": 1, \"ca\": 1.0, \"thal\": 3.0, \"num\": 0, \"presence\": \"N\"}, {\"trestbps\": 3.4919432879711727, \"chol\": 0.7588463895864673, \"age\": 54, \"sex\": 1, \"cp\": 2, \"fbs\": 0, \"restecg\": 2, \"thalach\": 195, \"exang\": 0, \"oldpeak\": 0.0, \"slope\": 1, \"ca\": 1.0, \"thal\": 7.0, \"num\": 1, \"presence\": \"Y\"}, {\"trestbps\": 1.0314914235650674, \"chol\": -0.6741137941831974, \"age\": 59, \"sex\": 1, \"cp\": 3, \"fbs\": 1, \"restecg\": 0, \"thalach\": 157, \"exang\": 0, \"oldpeak\": 1.6, \"slope\": 1, \"ca\": 0.0, \"thal\": 3.0, \"num\": 0, \"presence\": \"N\"}, {\"trestbps\": -0.7259741938678652, \"chol\": 0.25428294459714873, \"age\": 54, \"sex\": 1, \"cp\": 3, \"fbs\": 0, \"restecg\": 2, \"thalach\": 147, \"exang\": 0, \"oldpeak\": 0.4, \"slope\": 2, \"ca\": 0.0, \"thal\": 7.0, \"num\": 0, \"presence\": \"N\"}, {\"trestbps\": 1.0314914235650674, \"chol\": -2.4098120449464533, \"age\": 57, \"sex\": 1, \"cp\": 3, \"fbs\": 1, \"restecg\": 0, \"thalach\": 173, \"exang\": 0, \"oldpeak\": 0.2, \"slope\": 1, \"ca\": 1.0, \"thal\": 7.0, \"num\": 0, \"presence\": \"N\"}, {\"trestbps\": 1.5001489215471826, \"chol\": 1.2028622211770676, \"age\": 60, \"sex\": 0, \"cp\": 4, \"fbs\": 0, \"restecg\": 2, \"thalach\": 161, \"exang\": 0, \"oldpeak\": 0.0, \"slope\": 1, \"ca\": 0.0, \"thal\": 3.0, \"num\": 1, \"presence\": \"Y\"}, {\"trestbps\": -0.25731669588574985, \"chol\": 0.27446548239672147, \"age\": 58, \"sex\": 1, \"cp\": 4, \"fbs\": 0, \"restecg\": 2, \"thalach\": 130, \"exang\": 1, \"oldpeak\": 3.0, \"slope\": 2, \"ca\": 2.0, \"thal\": 7.0, \"num\": 3, \"presence\": \"Y\"}, {\"trestbps\": -0.7259741938678652, \"chol\": -1.1584947013729432, \"age\": 49, \"sex\": 1, \"cp\": 3, \"fbs\": 0, \"restecg\": 0, \"thalach\": 139, \"exang\": 0, \"oldpeak\": 2.0, \"slope\": 2, \"ca\": 3.0, \"thal\": 7.0, \"num\": 3, \"presence\": \"Y\"}, {\"trestbps\": -1.3117960663455093, \"chol\": 0.5973860871898854, \"age\": 47, \"sex\": 1, \"cp\": 4, \"fbs\": 0, \"restecg\": 2, \"thalach\": 118, \"exang\": 1, \"oldpeak\": 1.0, \"slope\": 2, \"ca\": 1.0, \"thal\": 3.0, \"num\": 1, \"presence\": \"Y\"}, {\"trestbps\": 2.3202995430158846, \"chol\": -0.9364867855776431, \"age\": 52, \"sex\": 1, \"cp\": 3, \"fbs\": 1, \"restecg\": 0, \"thalach\": 162, \"exang\": 0, \"oldpeak\": 0.5, \"slope\": 1, \"ca\": 0.0, \"thal\": 7.0, \"num\": 0, \"presence\": \"N\"}, {\"trestbps\": 0.15275861484860107, \"chol\": 0.09282264220056681, \"age\": 55, \"sex\": 0, \"cp\": 2, \"fbs\": 0, \"restecg\": 2, \"thalach\": 161, \"exang\": 0, \"oldpeak\": 1.4, \"slope\": 2, \"ca\": 0.0, \"thal\": 3.0, \"num\": 0, \"presence\": \"N\"}, {\"trestbps\": -0.14015232139022102, \"chol\": 0.15337025559928502, \"age\": 47, \"sex\": 1, \"cp\": 3, \"fbs\": 0, \"restecg\": 0, \"thalach\": 179, \"exang\": 0, \"oldpeak\": 0.0, \"slope\": 1, \"ca\": 0.0, \"thal\": 3.0, \"num\": 0, \"presence\": \"N\"}, {\"trestbps\": -0.14015232139022102, \"chol\": 1.5459653637698043, \"age\": 70, \"sex\": 1, \"cp\": 4, \"fbs\": 0, \"restecg\": 2, \"thalach\": 109, \"exang\": 0, \"oldpeak\": 2.4, \"slope\": 2, \"ca\": 3.0, \"thal\": 3.0, \"num\": 1, \"presence\": \"Y\"}, {\"trestbps\": 0.4456695510874231, \"chol\": -0.6942963319827702, \"age\": 58, \"sex\": 1, \"cp\": 3, \"fbs\": 1, \"restecg\": 2, \"thalach\": 165, \"exang\": 0, \"oldpeak\": 0.0, \"slope\": 1, \"ca\": 0.0, \"thal\": 3.0, \"num\": 0, \"presence\": \"N\"}, {\"trestbps\": 0.7385804873262453, \"chol\": 1.2432272967762132, \"age\": 61, \"sex\": 0, \"cp\": 4, \"fbs\": 0, \"restecg\": 2, \"thalach\": 146, \"exang\": 1, \"oldpeak\": 1.0, \"slope\": 2, \"ca\": 0.0, \"thal\": 7.0, \"num\": 1, \"presence\": \"Y\"}, {\"trestbps\": 1.3244023598038894, \"chol\": 0.47629086039244894, \"age\": 65, \"sex\": 0, \"cp\": 3, \"fbs\": 0, \"restecg\": 0, \"thalach\": 148, \"exang\": 0, \"oldpeak\": 0.8, \"slope\": 1, \"ca\": 0.0, \"thal\": 3.0, \"num\": 0, \"presence\": \"N\"}, {\"trestbps\": 0.4456695510874231, \"chol\": 1.3239574479745042, \"age\": 46, \"sex\": 1, \"cp\": 4, \"fbs\": 0, \"restecg\": 0, \"thalach\": 120, \"exang\": 1, \"oldpeak\": 1.8, \"slope\": 2, \"ca\": 2.0, \"thal\": 7.0, \"num\": 2, \"presence\": \"Y\"}, {\"trestbps\": -0.843138568363394, \"chol\": 0.6377511627890309, \"age\": 68, \"sex\": 1, \"cp\": 3, \"fbs\": 0, \"restecg\": 0, \"thalach\": 151, \"exang\": 0, \"oldpeak\": 1.0, \"slope\": 1, \"ca\": 1.0, \"thal\": 7.0, \"num\": 0, \"presence\": \"N\"}, {\"trestbps\": -0.6088098193723364, \"chol\": -1.0777645501746522, \"age\": 35, \"sex\": 1, \"cp\": 2, \"fbs\": 0, \"restecg\": 0, \"thalach\": 174, \"exang\": 0, \"oldpeak\": 0.0, \"slope\": 1, \"ca\": 0.0, \"thal\": 3.0, \"num\": 0, \"presence\": \"N\"}, {\"trestbps\": -1.1946316918499804, \"chol\": 0.09282264220056681, \"age\": 41, \"sex\": 1, \"cp\": 3, \"fbs\": 0, \"restecg\": 0, \"thalach\": 179, \"exang\": 0, \"oldpeak\": 0.0, \"slope\": 1, \"ca\": 0.0, \"thal\": 3.0, \"num\": 0, \"presence\": \"N\"}, {\"trestbps\": -0.14015232139022102, \"chol\": 0.3350130957954397, \"age\": 55, \"sex\": 1, \"cp\": 2, \"fbs\": 0, \"restecg\": 0, \"thalach\": 155, \"exang\": 0, \"oldpeak\": 0.0, \"slope\": 1, \"ca\": 0.0, \"thal\": 3.0, \"num\": 0, \"presence\": \"N\"}, {\"trestbps\": -0.7259741938678652, \"chol\": -1.1584947013729432, \"age\": 54, \"sex\": 1, \"cp\": 4, \"fbs\": 0, \"restecg\": 0, \"thalach\": 113, \"exang\": 0, \"oldpeak\": 1.4, \"slope\": 2, \"ca\": 1.0, \"thal\": 7.0, \"num\": 2, \"presence\": \"Y\"}, {\"trestbps\": 0.4456695510874231, \"chol\": -0.08882019799558788, \"age\": 57, \"sex\": 0, \"cp\": 4, \"fbs\": 0, \"restecg\": 0, \"thalach\": 123, \"exang\": 1, \"oldpeak\": 0.2, \"slope\": 2, \"ca\": 0.0, \"thal\": 7.0, \"num\": 1, \"presence\": \"Y\"}, {\"trestbps\": 1.6173132960427115, \"chol\": 0.47629086039244894, \"age\": 70, \"sex\": 1, \"cp\": 3, \"fbs\": 0, \"restecg\": 0, \"thalach\": 112, \"exang\": 1, \"oldpeak\": 2.9, \"slope\": 2, \"ca\": 1.0, \"thal\": 7.0, \"num\": 3, \"presence\": \"Y\"}, {\"trestbps\": -0.4330632576290431, \"chol\": 0.25428294459714873, \"age\": 60, \"sex\": 1, \"cp\": 4, \"fbs\": 0, \"restecg\": 2, \"thalach\": 141, \"exang\": 1, \"oldpeak\": 2.8, \"slope\": 2, \"ca\": 1.0, \"thal\": 7.0, \"num\": 1, \"presence\": \"Y\"}, {\"trestbps\": 0.15275861484860107, \"chol\": 0.1735527933988578, \"age\": 65, \"sex\": 1, \"cp\": 4, \"fbs\": 0, \"restecg\": 2, \"thalach\": 127, \"exang\": 0, \"oldpeak\": 2.8, \"slope\": 2, \"ca\": 1.0, \"thal\": 7.0, \"num\": 2, \"presence\": \"Y\"}, {\"trestbps\": -1.6047070025843313, \"chol\": -0.8355740965797793, \"age\": 46, \"sex\": 0, \"cp\": 2, \"fbs\": 0, \"restecg\": 0, \"thalach\": 172, \"exang\": 0, \"oldpeak\": 0.0, \"slope\": 1, \"ca\": 0.0, \"thal\": 3.0, \"num\": 0, \"presence\": \"N\"}, {\"trestbps\": 0.9143270490695384, \"chol\": -0.02827258459686965, \"age\": 42, \"sex\": 1, \"cp\": 1, \"fbs\": 0, \"restecg\": 2, \"thalach\": 178, \"exang\": 0, \"oldpeak\": 0.8, \"slope\": 1, \"ca\": 2.0, \"thal\": 3.0, \"num\": 0, \"presence\": \"N\"}, {\"trestbps\": -1.0188851301066872, \"chol\": 0.2946480201962942, \"age\": 45, \"sex\": 1, \"cp\": 4, \"fbs\": 0, \"restecg\": 2, \"thalach\": 185, \"exang\": 0, \"oldpeak\": 0.0, \"slope\": 1, \"ca\": 0.0, \"thal\": 3.0, \"num\": 0, \"presence\": \"N\"}, {\"trestbps\": 0.7385804873262453, \"chol\": -1.4410502305669617, \"age\": 70, \"sex\": 1, \"cp\": 4, \"fbs\": 0, \"restecg\": 0, \"thalach\": 125, \"exang\": 1, \"oldpeak\": 2.6, \"slope\": 3, \"ca\": 0.0, \"thal\": 7.0, \"num\": 4, \"presence\": \"Y\"}, {\"trestbps\": -0.14015232139022102, \"chol\": 1.4046875991727952, \"age\": 43, \"sex\": 1, \"cp\": 3, \"fbs\": 0, \"restecg\": 0, \"thalach\": 162, \"exang\": 0, \"oldpeak\": 1.9, \"slope\": 1, \"ca\": 1.0, \"thal\": 3.0, \"num\": 0, \"presence\": \"N\"}, {\"trestbps\": -0.7259741938678652, \"chol\": -0.10900273579516062, \"age\": 56, \"sex\": 1, \"cp\": 2, \"fbs\": 0, \"restecg\": 0, \"thalach\": 169, \"exang\": 0, \"oldpeak\": 0.0, \"slope\": 3, \"ca\": 0.0, \"thal\": 3.0, \"num\": 0, \"presence\": \"N\"}, {\"trestbps\": -0.7259741938678652, \"chol\": 1.6065129771685225, \"age\": 52, \"sex\": 1, \"cp\": 2, \"fbs\": 0, \"restecg\": 0, \"thalach\": 172, \"exang\": 0, \"oldpeak\": 0.2, \"slope\": 1, \"ca\": 0.0, \"thal\": 3.0, \"num\": 0, \"presence\": \"N\"}, {\"trestbps\": 1.0314914235650674, \"chol\": -0.04845512239644239, \"age\": 61, \"sex\": 1, \"cp\": 3, \"fbs\": 1, \"restecg\": 0, \"thalach\": 137, \"exang\": 1, \"oldpeak\": 1.0, \"slope\": 2, \"ca\": 0.0, \"thal\": 3.0, \"num\": 0, \"presence\": \"N\"}, {\"trestbps\": -0.7259741938678652, \"chol\": -0.3310106515904608, \"age\": 67, \"sex\": 1, \"cp\": 4, \"fbs\": 0, \"restecg\": 2, \"thalach\": 129, \"exang\": 1, \"oldpeak\": 2.6, \"slope\": 2, \"ca\": 2.0, \"thal\": 7.0, \"num\": 1, \"presence\": \"Y\"}, {\"trestbps\": 2.2031351685203555, \"chol\": 1.6266955149680953, \"age\": 59, \"sex\": 1, \"cp\": 4, \"fbs\": 0, \"restecg\": 2, \"thalach\": 140, \"exang\": 1, \"oldpeak\": 3.4, \"slope\": 3, \"ca\": 0.0, \"thal\": 7.0, \"num\": 2, \"presence\": \"Y\"}, {\"trestbps\": -0.7259741938678652, \"chol\": -0.2906455759913153, \"age\": 38, \"sex\": 1, \"cp\": 1, \"fbs\": 0, \"restecg\": 0, \"thalach\": 182, \"exang\": 1, \"oldpeak\": 3.8, \"slope\": 2, \"ca\": 0.0, \"thal\": 7.0, \"num\": 4, \"presence\": \"Y\"}, {\"trestbps\": -0.7259741938678652, \"chol\": -1.5419629195648255, \"age\": 44, \"sex\": 1, \"cp\": 4, \"fbs\": 0, \"restecg\": 0, \"thalach\": 144, \"exang\": 1, \"oldpeak\": 2.8, \"slope\": 3, \"ca\": 0.0, \"thal\": 6.0, \"num\": 2, \"presence\": \"Y\"}, {\"trestbps\": -1.546124815336567, \"chol\": -0.45210587838789723, \"age\": 67, \"sex\": 0, \"cp\": 4, \"fbs\": 0, \"restecg\": 0, \"thalach\": 142, \"exang\": 0, \"oldpeak\": 0.3, \"slope\": 1, \"ca\": 2.0, \"thal\": 3.0, \"num\": 0, \"presence\": \"N\"}, {\"trestbps\": -0.843138568363394, \"chol\": -1.1988597769720888, \"age\": 52, \"sex\": 1, \"cp\": 1, \"fbs\": 0, \"restecg\": 2, \"thalach\": 190, \"exang\": 0, \"oldpeak\": 0.0, \"slope\": 2, \"ca\": 0.0, \"thal\": 6.0, \"num\": 0, \"presence\": \"N\"}, {\"trestbps\": 1.148655798060596, \"chol\": 0.6377511627890309, \"age\": 67, \"sex\": 0, \"cp\": 3, \"fbs\": 0, \"restecg\": 0, \"thalach\": 172, \"exang\": 0, \"oldpeak\": 0.0, \"slope\": 1, \"ca\": 1.0, \"thal\": 3.0, \"num\": 0, \"presence\": \"N\"}, {\"trestbps\": 0.4456695510874231, \"chol\": 1.80833835516425, \"age\": 64, \"sex\": 1, \"cp\": 3, \"fbs\": 0, \"restecg\": 0, \"thalach\": 158, \"exang\": 0, \"oldpeak\": 0.0, \"slope\": 1, \"ca\": 0.0, \"thal\": 3.0, \"num\": 1, \"presence\": \"Y\"}, {\"trestbps\": -1.3117960663455093, \"chol\": 0.05245756660142132, \"age\": 65, \"sex\": 1, \"cp\": 4, \"fbs\": 0, \"restecg\": 2, \"thalach\": 158, \"exang\": 0, \"oldpeak\": 0.6, \"slope\": 1, \"ca\": 2.0, \"thal\": 6.0, \"num\": 1, \"presence\": \"Y\"}, {\"trestbps\": 1.0314914235650674, \"chol\": -0.04845512239644239, \"age\": 50, \"sex\": 1, \"cp\": 4, \"fbs\": 0, \"restecg\": 2, \"thalach\": 128, \"exang\": 0, \"oldpeak\": 2.6, \"slope\": 2, \"ca\": 0.0, \"thal\": 7.0, \"num\": 4, \"presence\": \"Y\"}, {\"trestbps\": -1.3117960663455093, \"chol\": -0.12918527359473336, \"age\": 54, \"sex\": 1, \"cp\": 4, \"fbs\": 0, \"restecg\": 0, \"thalach\": 126, \"exang\": 1, \"oldpeak\": 2.8, \"slope\": 2, \"ca\": 1.0, \"thal\": 7.0, \"num\": 3, \"presence\": \"Y\"}, {\"trestbps\": -0.14015232139022102, \"chol\": 0.35519563359501244, \"age\": 62, \"sex\": 0, \"cp\": 3, \"fbs\": 0, \"restecg\": 0, \"thalach\": 97, \"exang\": 0, \"oldpeak\": 1.2, \"slope\": 2, \"ca\": 1.0, \"thal\": 7.0, \"num\": 2, \"presence\": \"Y\"}, {\"trestbps\": 1.0314914235650674, \"chol\": 0.25428294459714873, \"age\": 60, \"sex\": 0, \"cp\": 4, \"fbs\": 0, \"restecg\": 2, \"thalach\": 157, \"exang\": 0, \"oldpeak\": 2.6, \"slope\": 2, \"ca\": 2.0, \"thal\": 7.0, \"num\": 3, \"presence\": \"Y\"}, {\"trestbps\": -1.3117960663455093, \"chol\": -0.7952090209806338, \"age\": 54, \"sex\": 1, \"cp\": 4, \"fbs\": 0, \"restecg\": 2, \"thalach\": 108, \"exang\": 1, \"oldpeak\": 0.0, \"slope\": 2, \"ca\": 1.0, \"thal\": 3.0, \"num\": 3, \"presence\": \"Y\"}, {\"trestbps\": 0.3285051765918943, \"chol\": -0.04845512239644239, \"age\": 46, \"sex\": 0, \"cp\": 4, \"fbs\": 0, \"restecg\": 2, \"thalach\": 152, \"exang\": 1, \"oldpeak\": 0.0, \"slope\": 2, \"ca\": 0.0, \"thal\": 3.0, \"num\": 0, \"presence\": \"N\"}, {\"trestbps\": -1.3117960663455093, \"chol\": -1.481415306166107, \"age\": 41, \"sex\": 1, \"cp\": 4, \"fbs\": 0, \"restecg\": 2, \"thalach\": 158, \"exang\": 0, \"oldpeak\": 0.0, \"slope\": 1, \"ca\": 0.0, \"thal\": 7.0, \"num\": 1, \"presence\": \"Y\"}, {\"trestbps\": 0.3285051765918943, \"chol\": 0.7386638517868945, \"age\": 65, \"sex\": 1, \"cp\": 1, \"fbs\": 1, \"restecg\": 2, \"thalach\": 174, \"exang\": 0, \"oldpeak\": 1.4, \"slope\": 2, \"ca\": 1.0, \"thal\": 3.0, \"num\": 1, \"presence\": \"Y\"}, {\"trestbps\": -0.25731669588574985, \"chol\": -0.3310106515904608, \"age\": 57, \"sex\": 1, \"cp\": 3, \"fbs\": 0, \"restecg\": 2, \"thalach\": 150, \"exang\": 0, \"oldpeak\": 0.4, \"slope\": 2, \"ca\": 1.0, \"thal\": 7.0, \"num\": 1, \"presence\": \"Y\"}, {\"trestbps\": 2.7889570409979996, \"chol\": 0.5772035493903126, \"age\": 68, \"sex\": 1, \"cp\": 3, \"fbs\": 1, \"restecg\": 2, \"thalach\": 150, \"exang\": 1, \"oldpeak\": 1.6, \"slope\": 2, \"ca\": 0.0, \"thal\": 7.0, \"num\": 3, \"presence\": \"Y\"}, {\"trestbps\": 0.4456695510874231, \"chol\": -0.12918527359473336, \"age\": 54, \"sex\": 1, \"cp\": 4, \"fbs\": 0, \"restecg\": 0, \"thalach\": 160, \"exang\": 0, \"oldpeak\": 1.2, \"slope\": 1, \"ca\": 0.0, \"thal\": 3.0, \"num\": 0, \"presence\": \"N\"}, {\"trestbps\": -0.7259741938678652, \"chol\": 0.47629086039244894, \"age\": 74, \"sex\": 0, \"cp\": 2, \"fbs\": 0, \"restecg\": 2, \"thalach\": 121, \"exang\": 1, \"oldpeak\": 0.2, \"slope\": 1, \"ca\": 1.0, \"thal\": 3.0, \"num\": 0, \"presence\": \"N\"}, {\"trestbps\": -0.6088098193723364, \"chol\": -0.47228841618747, \"age\": 48, \"sex\": 1, \"cp\": 4, \"fbs\": 0, \"restecg\": 2, \"thalach\": 186, \"exang\": 0, \"oldpeak\": 0.0, \"slope\": 1, \"ca\": 0.0, \"thal\": 3.0, \"num\": 0, \"presence\": \"N\"}]}}, {\"mode\": \"vega-lite\"});\n",
       "</script>"
      ],
      "text/plain": [
       "alt.Chart(...)"
      ]
     },
     "execution_count": 8,
     "metadata": {},
     "output_type": "execute_result"
    }
   ],
   "source": [
    "plot_df = train_scaled\n",
    "\n",
    "plot_df[\"presence\"] = plot_df[\"num\"].replace({\n",
    "     0:\"N\",\n",
    "     1:\"Y\",\n",
    "     2:\"Y\",\n",
    "     3:\"Y\",\n",
    "     4:\"Y\",\n",
    "})\n",
    "\n",
    "heart_disease_chart = alt.Chart(plot_df, title='The relationshp of Serum Cholesterol and Resting Blood Pressure toward Heart disease').mark_point().encode(\n",
    "    x=alt.X('trestbps', title='Resting Blood Pressure on Admission to Hospital (Standarized)', scale=alt.Scale(zero=False)),\n",
    "    y=alt.Y('chol', title=\"Serum Cholesterol (Standardized)\", scale=alt.Scale(zero=False)),\n",
    "    color=alt.Color(\"presence\", title = \"presence of heart disease\")\n",
    ")\n",
    "\n",
    "heart_disease_chart"
   ]
  },
  {
   "cell_type": "markdown",
   "id": "7ff100d7-b931-4c23-8966-b6c0277d3f33",
   "metadata": {
    "tags": []
   },
   "source": [
    "## Methods\n",
    "The presence of CAD is characterized by over 50% of heart vessels narrowing, while less than 50% of heart vessels narrowing indicates the absence of CAD. For our question in determining the presence or absence of CAD, we will use two variables for ease in 2D visualization and k-nearest neighbor calculations. \n",
    "The resting systolic blood pressure of patients and their serum cholesterol levels, will be used to classify the presence or absence of coronary artery disease (CAD). These two variables are important due to the nature of cholesterol in plaques, and how blood pressure is correlated with narrowing of blood vessels. Resting systolic blood pressure and serum cholesterol levels are integral variables within the database, and can be categorized based on healthy or abnormal values as described in Rahman et. al (2022). Resting systolic blood pressure under 120mmHg is considered typical while values over 120mmHg is considered high and abnormal. Healthy serum cholesterol levels normally under 200mg/dL, while values over 200mg/dL are considered abnormally high.\n",
    "\n",
    "We can visualize our results through two different histograms for female and male respectively to understand how blood pressure and cholesterol serum levels can correlate to diagnosis of CAD. "
   ]
  },
  {
   "cell_type": "markdown",
   "id": "eccc6479-172d-481f-985d-543eb37fd2d0",
   "metadata": {},
   "source": [
    "## Expected outcomes and significance\n",
    "We would expect both female and male patients who report high cholesterol levels and high resting systolic blood pressure to be diagnosed with a heart disease such as CAD. And that we would not find any difference between the positive correlations and the diagnosis of CAD, in terms of sex. If our findings are consistent with our expected outcomes, this can provide strong evidence of a positive correlation between blood pressure and cholesterol serums, despite the sex of the patient. In addition, the positive correlation between these two variables could represent reliable biomarkers for the presence of CAD. This could prompt further exploration into the relationships between potential biomarkers for early detection of heart disease and how sex can be related in these relationships. Finding biomarkers to identify heart disease is a crucial step in prevention and treatment for patients."
   ]
  },
  {
   "cell_type": "markdown",
   "id": "bcb29620-729b-499a-b59a-b8a4a799f300",
   "metadata": {
    "tags": []
   },
   "source": [
    "## References\n",
    "References\n",
    "Coronary artery disease - Symptoms and causes. (2022, May 25). Mayo Clinic. https://www.mayoclinic.org/diseases-conditions/coronary-artery-disease/symptoms-causes/syc-20350613\n",
    "Detrano, R., Janosi, A., Steinbrunn, W., Pfisterer, M., Schmid, J., Sandhu, S., Guppy, K. H., Lee, S., & Froelicher, V. (1989). International application of a new probability algorithm for the diagnosis of coronary artery disease. The American Journal of Cardiology, 64(5), 304-310. https://doi.org/10.1016/0002-9149(89)90524-9\n",
    "Rahman, A. U., Saeed, M., Mohammed, M. A., Krishnamoorthy, S., Kadry, S., & Eid, F. (2022). An integrated algorithmic MADM approach for heart diseases’ diagnosis based on Neutrosophic Hypersoft set with possibility degree-based setting. Life, 12(5), 729. https://doi.org/10.3390/life12050729References\n",
    "Coronary artery disease - Symptoms and causes. (2022, May 25). Mayo Clinic. https://www.mayoclinic.org/diseases-conditions/coronary-artery-disease/symptoms-causes/syc-20350613\n",
    "Detrano, R., Janosi, A., Steinbrunn, W., Pfisterer, M., Schmid, J., Sandhu, S., Guppy, K. H., Lee, S., & Froelicher, V. (1989). International application of a new probability algorithm for the diagnosis of coronary artery disease. The American Journal of Cardiology, 64(5), 304-310. https://doi.org/10.1016/0002-9149(89)90524-9\n",
    "Rahman, A. U., Saeed, M., Mohammed, M. A., Krishnamoorthy, S., Kadry, S., & Eid, F. (2022). An integrated algorithmic MADM approach for heart diseases’ diagnosis based on Neutrosophic Hypersoft set with possibility degree-based setting. Life, 12(5), 729. https://doi.org/10.3390/life12050729"
   ]
  }
 ],
 "metadata": {
  "kernelspec": {
   "display_name": "Python 3 (ipykernel)",
   "language": "python",
   "name": "python3"
  },
  "language_info": {
   "codemirror_mode": {
    "name": "ipython",
    "version": 3
   },
   "file_extension": ".py",
   "mimetype": "text/x-python",
   "name": "python",
   "nbconvert_exporter": "python",
   "pygments_lexer": "ipython3",
   "version": "3.10.8"
  }
 },
 "nbformat": 4,
 "nbformat_minor": 5
}
